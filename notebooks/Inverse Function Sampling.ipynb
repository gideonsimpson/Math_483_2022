{
 "cells": [
  {
   "cell_type": "markdown",
   "id": "c520dec4-fb59-4f29-8afa-d1747f10a880",
   "metadata": {},
   "source": [
    "# Demonstrate Inverse Function Sampling\n",
    "Assuming that for the (continuous) distribution we wish to sample, we have the CDF, $F(x)$, and, we can evaluate its inverse, then\n",
    "$$\n",
    "X \\sim F^{-1}(\\xi), \\xi \\sim U(0,1)\n",
    "$$\n",
    "has the correct distribution."
   ]
  },
  {
   "cell_type": "code",
   "execution_count": null,
   "id": "5bae5a68-c199-4df9-b6f6-b6d0a2b02ca9",
   "metadata": {},
   "outputs": [],
   "source": [
    "using Random\n",
    "using Plots\n",
    "using QuadGK\n",
    "using Roots\n",
    "using BenchmarkTools"
   ]
  },
  {
   "cell_type": "code",
   "execution_count": null,
   "id": "0188bb76-4b18-4269-98d6-33b85325ab98",
   "metadata": {},
   "outputs": [],
   "source": [
    "# for readability, these are good settings to use\n",
    "default(xtickfontsize=14,  ytickfontsize=14, \n",
    "    guidefontsize=14, legendfontsize=12, lw=2,ms=8)"
   ]
  },
  {
   "cell_type": "markdown",
   "id": "59407b20-0065-4b24-b738-f4ca89896f81",
   "metadata": {},
   "source": [
    "# Example 1\n",
    "Given the density,\n",
    "$$\n",
    "f(x) = 3x^2 1_{[0,1]}(x),\n",
    "$$\n",
    "the CDF is\n",
    "$$\n",
    "F(x) = \\begin{cases}\n",
    "0 & x\\leq 0\\\\\n",
    "x^3 & 0<x\\leq 1\\\\\n",
    "1 & x>1\n",
    "\\end{cases}\n",
    "$$\n",
    "so the relevant inverse we need is\n",
    "$$\n",
    "F^{-1}(y)=y^{1/3}\n",
    "$$"
   ]
  },
  {
   "cell_type": "code",
   "execution_count": null,
   "id": "ac6e7d2f-a7ef-4c20-91ea-d75019eaa468",
   "metadata": {},
   "outputs": [],
   "source": [
    "function inv_sample()\n",
    "    ξ = rand();\n",
    "    X = cbrt(ξ);\n",
    "    return  X\n",
    "end"
   ]
  },
  {
   "cell_type": "code",
   "execution_count": null,
   "id": "d75cc8f7-9147-4051-b6a6-3c73a990ffa0",
   "metadata": {},
   "outputs": [],
   "source": [
    "@btime inv_sample()"
   ]
  },
  {
   "cell_type": "code",
   "execution_count": null,
   "id": "13ad2c9c-90a3-418a-9422-f8302ebd8d52",
   "metadata": {},
   "outputs": [],
   "source": [
    "n = 10^6;\n",
    "\n",
    "Random.seed!(100);\n",
    "samples = [inv_sample() for _ in 1:n];"
   ]
  },
  {
   "cell_type": "code",
   "execution_count": null,
   "id": "433e0208-d028-4929-9fe7-3b245b5cfffe",
   "metadata": {},
   "outputs": [],
   "source": [
    "xx = LinRange(0,1,100);\n",
    "yy = @. 3 * xx^2;\n",
    "\n",
    "histogram(samples, label = \"Samples\", norm = :pdf,legend=:topleft)\n",
    "plot!(xx, yy, label=\"Density\")\n",
    "xlabel!(\"x\")\n",
    "ylabel!(\"Probability\")"
   ]
  },
  {
   "cell_type": "markdown",
   "id": "df0b8650-693e-45f7-b2c1-9a661cc4bc7a",
   "metadata": {},
   "source": [
    "# Example 2\n",
    "Suppose we are only given the __unnormalized__ PDF,\n",
    "$$\n",
    "f(x) \\propto \\exp(-(x^2 -1)^2)1_{[-2,2]}(x)\n",
    "$$\n",
    "To use inverse function sampling on this problem, we will first need to, numerically, compute the normalization, $Z$,\n",
    "such that\n",
    "$$\n",
    "\\int Z^{-1}\\exp(-(x^2 -1)^2)1_{[-2,2]}(x)dx = 1.\n",
    "$$\n",
    "So\n",
    "$$\n",
    "Z = \\int_{-2}^2 \\exp(-(x^2 -1)^2) dx.\n",
    "$$"
   ]
  },
  {
   "cell_type": "code",
   "execution_count": null,
   "id": "956e5827-e365-48ff-90b8-9375d815d5c0",
   "metadata": {},
   "outputs": [],
   "source": [
    "Z = quadgk(x->exp(-(x^2-1)^2), -2,2)[1];\n",
    "@show Z;"
   ]
  },
  {
   "cell_type": "markdown",
   "id": "2fb5f64a-759f-4f05-8a21-4fabc5b2069c",
   "metadata": {},
   "source": [
    "Note that extract the first return with the `[1]`, as teh second value is an estimate of the error, which we do not need right now."
   ]
  },
  {
   "cell_type": "code",
   "execution_count": null,
   "id": "040e2bae-0e4f-43e7-bdef-03dfe77f7f0f",
   "metadata": {},
   "outputs": [],
   "source": [
    "# define the density\n",
    "f = x->exp(-(x^2-1)^2)/Z;"
   ]
  },
  {
   "cell_type": "code",
   "execution_count": null,
   "id": "d769b3fc-ffd5-437c-ad23-b870b1987534",
   "metadata": {},
   "outputs": [],
   "source": [
    "xx = LinRange(-2,2,100);\n",
    "plot(xx, f.(xx), label=\"Density\")\n",
    "xlabel!(\"x\")\n",
    "ylabel!(\"Probability\")"
   ]
  },
  {
   "cell_type": "markdown",
   "id": "b973d99f-d48b-43c9-9468-859a7ab8877c",
   "metadata": {},
   "source": [
    "Observe that the density has two peaks.  This is a __multi-modal__ distribution.  This is also called a double well distribution because $(x^2-1)^2$ is like a potential energy with two _wells_ at $x=\\pm 1$."
   ]
  },
  {
   "cell_type": "markdown",
   "id": "f51112e5-ef18-4718-b24b-f4698791188d",
   "metadata": {},
   "source": [
    "Next, we construct the numerical CDF,\n",
    "$$\n",
    "F(x) = \\int_{-2}^x f(t)dt\n",
    "$$\n",
    "Observe that, as implemented, this requires us to perform an integral at each value of $x$."
   ]
  },
  {
   "cell_type": "code",
   "execution_count": null,
   "id": "70b09b43-75ba-441b-84bc-cbe66e8e4c69",
   "metadata": {},
   "outputs": [],
   "source": [
    "F = x-> quadgk(f,-2,x)[1];"
   ]
  },
  {
   "cell_type": "code",
   "execution_count": null,
   "id": "fa024470-9110-4d9d-9227-06601bd9c97a",
   "metadata": {},
   "outputs": [],
   "source": [
    "xx = LinRange(-2,2,100);\n",
    "plot(xx, F.(xx), label=\"CDF\", legend=:topleft)\n",
    "xlabel!(\"x\")\n",
    "ylabel!(\"Probability\")"
   ]
  },
  {
   "cell_type": "markdown",
   "id": "864c64ba-c06e-4ce2-99ae-b6b6d4b2cd16",
   "metadata": {},
   "source": [
    "To compute $F^{-1}$, we will apply the Bisection method to\n",
    "$$\n",
    "F(x) - y = 0\n",
    "$$\n",
    "for a given value of $y$."
   ]
  },
  {
   "cell_type": "code",
   "execution_count": null,
   "id": "2ec548cf-5cc1-4993-8f95-d923e3564288",
   "metadata": {},
   "outputs": [],
   "source": [
    "function Finv(y)\n",
    "    x = find_zero(x->F(x) - y, (-2,2), Bisection());\n",
    "    return x\n",
    "end"
   ]
  },
  {
   "cell_type": "code",
   "execution_count": null,
   "id": "5255ff2a-f879-4886-9949-85b2a42739a8",
   "metadata": {},
   "outputs": [],
   "source": [
    "function double_well_inv_sample()\n",
    "    ξ = rand();\n",
    "    X = Finv(ξ);\n",
    "    return X;\n",
    "end"
   ]
  },
  {
   "cell_type": "code",
   "execution_count": null,
   "id": "3b71f064-9b42-4e64-9e76-a2b34bf61216",
   "metadata": {},
   "outputs": [],
   "source": [
    "@btime double_well_inv_sample()"
   ]
  },
  {
   "cell_type": "code",
   "execution_count": null,
   "id": "6c6294f1-126d-4e46-9eac-1d4f8673affb",
   "metadata": {},
   "outputs": [],
   "source": [
    "n = 10^4;\n",
    "\n",
    "Random.seed!(100);\n",
    "samples = [double_well_inv_sample() for _ in 1:n];"
   ]
  },
  {
   "cell_type": "code",
   "execution_count": null,
   "id": "95cdcf48-3faa-4cdc-9983-78be6a07dd7c",
   "metadata": {},
   "outputs": [],
   "source": [
    "xx = LinRange(-2,2,100);\n",
    "histogram(samples, label=\"Samples\", norm =:pdf)\n",
    "plot!(xx, f.(xx), label=\"Density\")\n",
    "xlabel!(\"x\")\n",
    "ylabel!(\"Probability\")"
   ]
  }
 ],
 "metadata": {
  "kernelspec": {
   "display_name": "Julia 1.7.2",
   "language": "julia",
   "name": "julia-1.7"
  },
  "language_info": {
   "file_extension": ".jl",
   "mimetype": "application/julia",
   "name": "julia",
   "version": "1.7.2"
  }
 },
 "nbformat": 4,
 "nbformat_minor": 5
}
