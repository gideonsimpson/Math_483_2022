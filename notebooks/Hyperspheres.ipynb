{
 "cells": [
  {
   "cell_type": "markdown",
   "id": "603edfd7-ec5f-43eb-95fa-b1930eb52296",
   "metadata": {},
   "source": [
    "# Sampling from Hyperspheres\n",
    "This method uses the rejection sampler by sampling from $U([-1,1]^d)$, and then accepting/rejecting depending on if it is in there sphere."
   ]
  },
  {
   "cell_type": "code",
   "execution_count": null,
   "id": "22b61bda-e4eb-402d-a158-53a31a1fa022",
   "metadata": {},
   "outputs": [],
   "source": [
    "using Plots\n",
    "using Random\n",
    "using Distributions\n",
    "using LinearAlgebra"
   ]
  },
  {
   "cell_type": "code",
   "execution_count": null,
   "id": "eb49482b-b188-496f-96f5-fb6e1b37f532",
   "metadata": {},
   "outputs": [],
   "source": [
    "# for readability, these are good settings to use\n",
    "default(xtickfontsize=14,  ytickfontsize=14, \n",
    "    guidefontsize=14, legendfontsize=12, lw=2,ms=8)"
   ]
  },
  {
   "cell_type": "code",
   "execution_count": null,
   "id": "22818779-9313-47ce-856e-4ffefa7a8a2f",
   "metadata": {},
   "outputs": [],
   "source": [
    "# setup\n",
    "unif_dist = Uniform(-1,1);\n",
    "\n",
    "function hypersphere_sampler(d; max_iter = 1000)\n",
    "    for _ in 1:max_iter\n",
    "        X = rand(unif_dist, d);\n",
    "        if(norm(X) < 1)\n",
    "            return X\n",
    "        end\n",
    "    end\n",
    "    println(\"ERROR: Failed to sample\")\n",
    "    return -10;\n",
    "end"
   ]
  },
  {
   "cell_type": "markdown",
   "id": "38a8b10a-e534-426b-b2aa-5ce61ecec923",
   "metadata": {},
   "source": [
    "# 2D example"
   ]
  },
  {
   "cell_type": "code",
   "execution_count": null,
   "id": "47542bf6-8d33-4998-9a8e-ccd401c0ec96",
   "metadata": {},
   "outputs": [],
   "source": [
    "n_samples = 10^3;\n",
    "d = 2;\n",
    "Random.seed!(100);\n",
    "samples = [hypersphere_sampler(d) for _ in 1:n_samples];"
   ]
  },
  {
   "cell_type": "code",
   "execution_count": null,
   "id": "18d8c51b-8cee-45fb-9ee7-bf8cc516e41b",
   "metadata": {},
   "outputs": [],
   "source": [
    "x_samples = [X_[1] for X_ in samples];\n",
    "y_samples = [X_[2] for X_ in samples];\n",
    "scatter(x_samples, y_samples, label =\"Samples\",aspect_ratio=:equal)\n",
    "xlabel!(\"x\")\n",
    "ylabel!(\"y\")"
   ]
  },
  {
   "cell_type": "markdown",
   "id": "1215b0da-5edf-4053-ae92-5977633ac30d",
   "metadata": {},
   "source": [
    "# 3D example"
   ]
  },
  {
   "cell_type": "code",
   "execution_count": null,
   "id": "74dc56c4-6b0c-41d8-9120-0fdaf6c966e5",
   "metadata": {},
   "outputs": [],
   "source": [
    "n_samples = 10^3;\n",
    "d = 3;\n",
    "Random.seed!(100);\n",
    "samples = [hypersphere_sampler(d) for _ in 1:n_samples];"
   ]
  },
  {
   "cell_type": "code",
   "execution_count": null,
   "id": "9d69e700-b8c7-41d4-ac56-b47b2257aa12",
   "metadata": {},
   "outputs": [],
   "source": [
    "x_samples = [X_[1] for X_ in samples];\n",
    "y_samples = [X_[2] for X_ in samples];\n",
    "z_samples = [X_[3] for X_ in samples];\n",
    "scatter(x_samples, y_samples,z_samples, label =\"Samples\",aspect_ratio=:equal)\n",
    "xlabel!(\"x\")\n",
    "ylabel!(\"y\")"
   ]
  },
  {
   "cell_type": "code",
   "execution_count": null,
   "id": "56d81161-292d-41fc-b885-769ee1ccbed5",
   "metadata": {},
   "outputs": [],
   "source": []
  }
 ],
 "metadata": {
  "kernelspec": {
   "display_name": "Julia 1.7.2",
   "language": "julia",
   "name": "julia-1.7"
  },
  "language_info": {
   "file_extension": ".jl",
   "mimetype": "application/julia",
   "name": "julia",
   "version": "1.7.2"
  }
 },
 "nbformat": 4,
 "nbformat_minor": 5
}
