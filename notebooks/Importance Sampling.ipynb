{
 "cells": [
  {
   "cell_type": "markdown",
   "metadata": {},
   "source": [
    "# Importance Sampling\n",
    "Using a change of distribution, the variance of estimates can be substantially reduced."
   ]
  },
  {
   "cell_type": "code",
   "execution_count": null,
   "metadata": {},
   "outputs": [],
   "source": [
    "using Printf #string formatting\n",
    "using Random # random number utilities\n",
    "using Plots # plotting\n",
    "using Statistics # statistical tools\n",
    "using Distributions # useful distributions\n",
    "using QuadGK\n",
    "using HypothesisTests"
   ]
  },
  {
   "cell_type": "code",
   "execution_count": null,
   "metadata": {},
   "outputs": [],
   "source": [
    "# for readability, these are good settings to use\n",
    "default(xtickfontsize=14,  ytickfontsize=14, ztickfontsize=14, \n",
    "    guidefontsize=14, legendfontsize=12, lw=2,ms=8)"
   ]
  },
  {
   "cell_type": "markdown",
   "metadata": {},
   "source": [
    "# Example\n",
    "Estimate\n",
    "$$\n",
    "\\int_0^1 \\cos(x/5) e^{-5x}dx=\\mathbb{E}[\\cos(U/5)e^{-5U}], \\quad U \\sim U(0,1)\n",
    "$$\n",
    "by Monte Carlo"
   ]
  },
  {
   "cell_type": "code",
   "execution_count": null,
   "metadata": {},
   "outputs": [],
   "source": [
    "g = x-> cos(x/5) * exp(-5*x)"
   ]
  },
  {
   "cell_type": "code",
   "execution_count": null,
   "metadata": {},
   "outputs": [],
   "source": [
    "xx = 0:0.01:1\n",
    "plot(xx, g.(xx), label=\"cos(x/5)exp(-5x)\", lw=2)\n",
    "xlabel!(\"x\")"
   ]
  },
  {
   "cell_type": "markdown",
   "metadata": {},
   "source": [
    "## Naive Estimate\n",
    "Use $U(0,1)$ r.v.'s."
   ]
  },
  {
   "cell_type": "code",
   "execution_count": null,
   "metadata": {},
   "outputs": [],
   "source": [
    "n_samples = 10^2;\n",
    "\n",
    "Random.seed!(100)\n",
    "U_samples = rand(n_samples);\n",
    "g_samples = g.(U_samples);\n",
    "\n",
    "Eg_est = mean(g_samples)\n",
    "@printf(\"Mean = %g\\n\", Eg_est)\n",
    "@printf(\"Variance = %g\\n\", var(g_samples));\n",
    "α = 0.05;\n",
    "z=quantile(Normal(), 1-α/2);\n",
    "\n",
    "Ztest = OneSampleZTest(mean(g_samples), std(g_samples), n_samples);\n",
    "@printf(\"95%% CI = (%g, %g)\", \n",
    "    Ztest.xbar-z*Ztest.stderr, \n",
    "    Ztest.xbar+z*Ztest.stderr);"
   ]
  },
  {
   "cell_type": "markdown",
   "metadata": {},
   "source": [
    "## Importance Sampling"
   ]
  },
  {
   "cell_type": "markdown",
   "metadata": {},
   "source": [
    "Use distribution with pdf\n",
    "$$\n",
    "f_Y(y) = \\frac{e^{-5y}1_{[0,1]}(y)}{c}\n",
    "$$\n",
    "to write\n",
    "$$\n",
    "\\mathbb{E}[\\cos(X/5)e^{-5X}] = c\\mathbb{E}[\\cos(Y/5)].\n",
    "$$\n",
    "The normalization is \n",
    "$$\n",
    "c = (1-e^{-5})/5.\n",
    "$$"
   ]
  },
  {
   "cell_type": "markdown",
   "metadata": {},
   "source": [
    "Observe that the $\\cos(x/5)$ is a very slowly varying function over $[0,1]$."
   ]
  },
  {
   "cell_type": "code",
   "execution_count": null,
   "metadata": {},
   "outputs": [],
   "source": [
    "xx = 0:0.01:1\n",
    "plot(xx, cos.(xx/5), label=\"cos(x/5)\", lw=2)\n",
    "xlabel!(\"x\")"
   ]
  },
  {
   "cell_type": "code",
   "execution_count": null,
   "metadata": {},
   "outputs": [],
   "source": [
    "# sample Y by inverse funciton sampling\n",
    "function randY()\n",
    "    return -0.2 * log(1- rand()*(1-exp(-5)))\n",
    "end"
   ]
  },
  {
   "cell_type": "code",
   "execution_count": null,
   "metadata": {},
   "outputs": [],
   "source": [
    "n_samples = 10^2\n",
    "\n",
    "Random.seed!(100)\n",
    "Y_samples = zeros(n_samples);\n",
    "@. Y_samples = randY();\n",
    "\n",
    "c = (0.2 * (1-exp(-5)));\n",
    "\n",
    "g_samples = cos.(Y_samples/5)* c;\n",
    "Eg_est = mean(g_samples)\n",
    "\n",
    "@printf(\"Mean = %g\\n\", Eg_est)\n",
    "@printf(\"Variance = %g\\n\", var(g_samples));\n",
    "α = 0.05;\n",
    "z=quantile(Normal(), 1-α/2);\n",
    "\n",
    "Ztest = OneSampleZTest(mean(g_samples), std(g_samples), n_samples);\n",
    "@printf(\"95%% CI = (%g, %g)\", \n",
    "    Ztest.xbar-z*Ztest.stderr, \n",
    "    Ztest.xbar+z*Ztest.stderr);"
   ]
  },
  {
   "cell_type": "code",
   "execution_count": null,
   "metadata": {},
   "outputs": [],
   "source": [
    "O = x-> exp(-sqrt(1-x^2))/sqrt(x)\n",
    "xx = 0:0.001:1\n",
    "plot(xx, O.(xx), label=\"Observable\", lw=2)\n",
    "xlabel!(\"x\")"
   ]
  },
  {
   "cell_type": "markdown",
   "metadata": {},
   "source": [
    "## Naive Estimate"
   ]
  },
  {
   "cell_type": "code",
   "execution_count": null,
   "metadata": {},
   "outputs": [],
   "source": [
    "n_samples = 10^4;\n",
    "\n",
    "Random.seed!(100)\n",
    "U_samples = rand(n_samples);\n",
    "\n",
    "O_samples = O.(U_samples);\n",
    "O_est = mean(O_samples)\n",
    "println(\"Mean = \", O_est)\n",
    "println(\"Variance = \", var(O_samples))\n",
    "Ztest = OneSampleZTest(mean(O_samples), std(O_samples), n_samples);\n",
    "println(@sprintf(\"95%% CI = (%g, %g)\", \n",
    "        Ztest.xbar-1.96*Ztest.stderr, \n",
    "        Ztest.xbar+1.96*Ztest.stderr))"
   ]
  },
  {
   "cell_type": "markdown",
   "metadata": {},
   "source": [
    "## Importance Sampling\n",
    "Use distribution with pdf\n",
    "$$\n",
    "f_Y(y) = \\frac{1_{[0,1]}}{2 \\sqrt{y}}\n",
    "$$\n",
    "to write\n",
    "$$\n",
    "\\mathbb{E}[e^{-\\sqrt{1-X^2}}/\\sqrt{X}] = \\mathbb{E}[e^{-\\sqrt{1-Y^2}}]\\mathbb{E}[1/\\sqrt{X}].\n",
    "$$\n",
    "In this\n",
    "$$\n",
    "c = \\mathbb{E}[1/\\sqrt{X}] = 2.\n",
    "$$\n",
    "\n",
    "In this case, $Y\\sim X^2$, with $X\\sim U(0,1)$."
   ]
  },
  {
   "cell_type": "code",
   "execution_count": null,
   "metadata": {},
   "outputs": [],
   "source": [
    "n_samples = 10^4;\n",
    "\n",
    "Random.seed!(100)\n",
    "Y_samples = rand(n_samples).^2;\n",
    "\n",
    "O_samples = 2*exp.(-sqrt.(1 .- Y_samples.^2));\n",
    "O_est = mean(O_samples)\n",
    "println(\"Mean = \", O_est)\n",
    "println(\"Variance = \", var(O_samples))\n",
    "Ztest = OneSampleZTest(mean(O_samples), std(O_samples), n_samples);\n",
    "println(@sprintf(\"95%% CI = (%g, %g)\", \n",
    "        Ztest.xbar-1.96*Ztest.stderr, \n",
    "        Ztest.xbar+1.96*Ztest.stderr))"
   ]
  },
  {
   "cell_type": "code",
   "execution_count": null,
   "metadata": {},
   "outputs": [],
   "source": [
    "exact_answer = quadgk(O,0,1)[1];\n",
    "println(\"Exact = \", exact_answer)"
   ]
  }
 ],
 "metadata": {
  "@webio": {
   "lastCommId": null,
   "lastKernelId": null
  },
  "kernelspec": {
   "display_name": "Julia 1.7.2",
   "language": "julia",
   "name": "julia-1.7"
  },
  "language_info": {
   "file_extension": ".jl",
   "mimetype": "application/julia",
   "name": "julia",
   "version": "1.7.2"
  },
  "toc": {
   "base_numbering": 1,
   "nav_menu": {},
   "number_sections": true,
   "sideBar": true,
   "skip_h1_title": false,
   "title_cell": "Table of Contents",
   "title_sidebar": "Contents",
   "toc_cell": false,
   "toc_position": {},
   "toc_section_display": true,
   "toc_window_display": false
  }
 },
 "nbformat": 4,
 "nbformat_minor": 4
}
