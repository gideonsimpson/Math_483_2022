{
 "cells": [
  {
   "cell_type": "markdown",
   "id": "fb7abc77-32e2-4142-9eff-5187f94086af",
   "metadata": {},
   "source": [
    "# Using the Bootstrap\n",
    "This will demonstrate the use of the bootstrap resampling method to construct a confidence interval for the variance estimated by a data set.  This relies on the `Bootstrap.jl` module"
   ]
  },
  {
   "cell_type": "code",
   "execution_count": null,
   "id": "67717243-4aa6-40ba-a898-ec1e5b2ace9e",
   "metadata": {},
   "outputs": [],
   "source": [
    "using Random\n",
    "using Bootstrap\n",
    "using Distributions\n",
    "using Statistics\n",
    "using Printf\n",
    "using Plots"
   ]
  },
  {
   "cell_type": "code",
   "execution_count": null,
   "id": "1c7e3382-8d93-4b61-88d8-a702ff9ab503",
   "metadata": {},
   "outputs": [],
   "source": [
    "# for readability, these are good settings to use\n",
    "default(xtickfontsize=14,  ytickfontsize=14, ztickfontsize=14,\n",
    "    guidefontsize=14, legendfontsize=12, lw=2,ms=8)"
   ]
  },
  {
   "cell_type": "code",
   "execution_count": null,
   "id": "aad4efd3-0599-450a-8eb6-c1ed1d192089",
   "metadata": {},
   "outputs": [],
   "source": [
    "n_samples = 10^2;\n",
    "n_boot = 10^2;\n",
    "\n",
    "Random.seed!(100);\n",
    "\n",
    "# this could be any distribution\n",
    "normal_dist = Normal(0, 2); # variance will be 4\n",
    "\n",
    "samples = rand(normal_dist,n_samples); \n",
    "@show var(samples);"
   ]
  },
  {
   "cell_type": "code",
   "execution_count": null,
   "id": "8d95c080-8e61-4b8a-92b8-4e77b2a47aae",
   "metadata": {},
   "outputs": [],
   "source": [
    "bs_samples = bootstrap(var, samples, BasicSampling(n_boot))"
   ]
  },
  {
   "cell_type": "code",
   "execution_count": null,
   "id": "b9134f0b-7172-40cc-a3c2-a58a93aedce9",
   "metadata": {},
   "outputs": [],
   "source": [
    "# these are the bootstrap samples of the variance\n",
    "bs_samples.t1[1]"
   ]
  },
  {
   "cell_type": "code",
   "execution_count": null,
   "id": "b9d215cd-085d-4930-b9ea-e5029b90a749",
   "metadata": {},
   "outputs": [],
   "source": [
    "histogram(bs_samples.t1[1], label=\"Bootstrap Samples\", norm=:pdf)\n",
    "xlabel!(\"Variances\")\n",
    "ylabel!(\"Probability\")"
   ]
  },
  {
   "cell_type": "code",
   "execution_count": null,
   "id": "df423e4a-9305-40cb-acd2-7ca9177398a5",
   "metadata": {},
   "outputs": [],
   "source": [
    "α = 0.05;\n",
    "ci_level = 1-α;\n",
    "\n",
    "bci_normal = confint(bs_samples, NormalConfInt(ci_level));\n",
    "bci_percentile = confint(bs_samples, PercentileConfInt(ci_level));\n"
   ]
  },
  {
   "cell_type": "markdown",
   "id": "d6b57e4e-1ca0-4710-a77f-0064b26f0c4f",
   "metadata": {},
   "source": [
    "These are triples, the mean, the lower bound and the upper bound."
   ]
  },
  {
   "cell_type": "code",
   "execution_count": null,
   "id": "0f4369c4-adbe-4306-a328-64615c97b1f4",
   "metadata": {},
   "outputs": [],
   "source": [
    "@show bci_normal;\n",
    "@show bci_percentile;"
   ]
  },
  {
   "cell_type": "code",
   "execution_count": null,
   "id": "e5dad198-c816-4327-9f70-a9642326eaf5",
   "metadata": {},
   "outputs": [],
   "source": [
    "@printf(\"Normal %g CI for Variance: (%g, %g)\\n\", \n",
    "    ci_level, bci_normal[1][2],  bci_normal[1][3]);\n",
    "@printf(\"Percentile %g CI for Variance: (%g, %g)\\n\", \n",
    "    ci_level, bci_percentile[1][2],  bci_percentile[1][3]);"
   ]
  }
 ],
 "metadata": {
  "kernelspec": {
   "display_name": "Julia 1.7.2",
   "language": "julia",
   "name": "julia-1.7"
  },
  "language_info": {
   "file_extension": ".jl",
   "mimetype": "application/julia",
   "name": "julia",
   "version": "1.7.2"
  }
 },
 "nbformat": 4,
 "nbformat_minor": 5
}
