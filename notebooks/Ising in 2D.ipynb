{
 "cells": [
  {
   "cell_type": "markdown",
   "metadata": {},
   "source": [
    "# Ising in 2D"
   ]
  },
  {
   "cell_type": "code",
   "execution_count": null,
   "metadata": {},
   "outputs": [],
   "source": [
    "using Printf #string formatting\n",
    "using Random # random number utilities\n",
    "using Plots # plotting\n",
    "using Statistics # statistical tools\n",
    "using Distributions # useful distributions\n",
    "using LaTeXStrings\n",
    "using LinearAlgebra"
   ]
  },
  {
   "cell_type": "code",
   "execution_count": null,
   "metadata": {},
   "outputs": [],
   "source": [
    "# for readability, these are good settings to use\n",
    "default(xtickfontsize=14,  ytickfontsize=14, ztickfontsize=14,\n",
    "    guidefontsize=14, legendfontsize=12, lw=2,ms=8)"
   ]
  },
  {
   "cell_type": "markdown",
   "metadata": {},
   "source": [
    "## Setup Energy and Proposal\n",
    "The energy, with $J=1$, is\n",
    "$$\n",
    "E(x) = - \\sum_{i} \\sum_{j\\in N_i} \\sigma_i \\sigma_{j}\n",
    "$$\n",
    "where $N_i$ is the neighbor set of lattice site $i$.  "
   ]
  },
  {
   "cell_type": "code",
   "execution_count": null,
   "metadata": {},
   "outputs": [],
   "source": [
    "# energy\n",
    "\n",
    "# construct set of neighbors to (i,j) on an LxL lattice\n",
    "function N(i,j,L)\n",
    "    neighbors = [];\n",
    "    \n",
    "    if(i<L)\n",
    "        push!(neighbors,[i+1,j])\n",
    "    else\n",
    "        push!(neighbors,[1,j])\n",
    "    end\n",
    "    if(i>1)\n",
    "        push!(neighbors,[i-1,j])\n",
    "    else\n",
    "        push!(neighbors,[L,j])\n",
    "    end\n",
    "    \n",
    "    if(j<L)\n",
    "        push!(neighbors,[i,j+1])\n",
    "    else\n",
    "        push!(neighbors,[i,1])\n",
    "    end\n",
    "    if(j>1)\n",
    "        push!(neighbors,[i,j-1])\n",
    "    else\n",
    "        push!(neighbors,[i,L])\n",
    "    end\n",
    "    \n",
    "    return neighbors\n",
    "    \n",
    "end\n",
    "\n",
    "function E(x)\n",
    "    \n",
    "    L, = size(x);\n",
    "    \n",
    "    eng = 0.0;\n",
    "    \n",
    "    for i in 1:L, j in 1:L\n",
    "        neighbors = N(i,j,L);\n",
    "        for neighbor in neighbors\n",
    "            eng += -0.5 * x[i,j] * x[neighbor[1], neighbor[2]];\n",
    "        end\n",
    "    end\n",
    "    return eng;\n",
    "end\n",
    "\n",
    "# proposal\n",
    "function g(x)\n",
    "    L, = size(x);\n",
    "    y = copy(x);\n",
    "    ξ = rand(DiscreteUniform(1,L),2);\n",
    "    y[ξ[1], ξ[2]] = -y[ξ[1], ξ[2]];\n",
    "    return y;\n",
    "end\n",
    "\n",
    "#acceptance probability\n",
    "function h(x, y, β)\n",
    "    return min(1, exp(β * E(x)-β* E(y))); \n",
    "end\n"
   ]
  },
  {
   "cell_type": "code",
   "execution_count": null,
   "metadata": {},
   "outputs": [],
   "source": [
    "L = 16; # number of lattice sites\n",
    "# β = 1/100; # inverse temperature\n",
    "β = 2; # inverse temperature\n",
    "\n",
    "\n",
    "Random.seed!(100)\n",
    "# random initial condition\n",
    "X₀ = 2*rand(DiscreteUniform(0,1),L,L) .- 1;\n",
    "# deterministic initial condition\n",
    "#X₀ = ones(L,L);\n",
    "\n",
    "X = copy(X₀);\n",
    "X_vals = [copy(X₀)];\n",
    "Y = similar(X);\n",
    "\n",
    "n = 10^4;\n",
    "\n",
    "for j in 1:n-1\n",
    "    Y .= g(X); \n",
    "    U = rand();\n",
    "    if (U< h(X, Y, β))\n",
    "        X .= Y;\n",
    "#         println(\"exchange\");\n",
    "#         display(Y);\n",
    "    end\n",
    "    push!(X_vals, copy(X))\n",
    "end\n"
   ]
  },
  {
   "cell_type": "code",
   "execution_count": null,
   "metadata": {},
   "outputs": [],
   "source": [
    "X_vals[4]"
   ]
  },
  {
   "cell_type": "code",
   "execution_count": null,
   "metadata": {},
   "outputs": [],
   "source": [
    "X = X_vals[end];\n",
    "\n",
    "up = findall(X.>0);\n",
    "down = findall(X.<0);\n",
    "scatter(getindex.(up,1),getindex.(up,2),label=\"\",marker=:+)\n",
    "scatter!(getindex.(down,1),getindex.(down,2),label=\"\",marker=:hline)"
   ]
  },
  {
   "cell_type": "code",
   "execution_count": null,
   "metadata": {},
   "outputs": [],
   "source": [
    "# create an animation of the spin evolution\n",
    "\n",
    "anim = @animate for i=1:10:10000\n",
    "    X = X_vals[i]\n",
    "    \n",
    "    up = findall(X.>0);\n",
    "    down = findall(X.<0);\n",
    "    scatter(getindex.(up,1),getindex.(up,2),label=\"\",marker=:+)\n",
    "    scatter!(getindex.(down,1),getindex.(down,2),label=\"\",marker=:hline)    \n",
    "    title!(@sprintf(\"n = %d\",i-1))\n",
    "end\n",
    "\n"
   ]
  },
  {
   "cell_type": "code",
   "execution_count": null,
   "metadata": {},
   "outputs": [],
   "source": [
    "gif(anim, fps=10)"
   ]
  },
  {
   "cell_type": "code",
   "execution_count": null,
   "metadata": {},
   "outputs": [],
   "source": [
    "# compute energy\n",
    "E_vals = [E(x) for x in X_vals];\n",
    "plot(0:n-1, E_vals, label=\"Energy\",lw=2)\n",
    "plot!(0:n-1, cumsum(E_vals) ./ (1:n), label=\"Running Avg.\",lw=2)\n",
    "xlabel!(L\"$t$\")\n",
    "title!(LaTeXString(@sprintf(\"\\$L = %d,\\\\; \\\\beta = %g\\$\", L, β)))"
   ]
  },
  {
   "cell_type": "code",
   "execution_count": null,
   "metadata": {},
   "outputs": [],
   "source": [
    "# compute mean magnetization\n",
    "M_vals = [mean(x) for x in X_vals];\n",
    "plot(0:n-1, M_vals, label=\"Magnetization\",lw=2)\n",
    "plot!(0:n-1, cumsum(M_vals) ./ (1:n), label=\"Running Avg.\",lw=2)\n",
    "xlabel!(L\"$t$\")\n",
    "title!(LaTeXString(@sprintf(\"\\$L = %d,\\\\; \\\\beta = %g\\$\", L, β)))"
   ]
  },
  {
   "cell_type": "code",
   "execution_count": null,
   "metadata": {},
   "outputs": [],
   "source": [
    "# energy and spin vs. temperature\n",
    "\n",
    "\n",
    "L = 4; # number of lattice sites\n",
    "β_vals = 10 .^(-1:0.2:1);\n",
    "\n",
    "M_vals = Float64[];\n",
    "E_vals =  Float64[];\n",
    "\n",
    "Random.seed!(100)\n",
    "# random initial condition\n",
    "X₀ = 2*rand(DiscreteUniform(0,1),L,L) .- 1;\n",
    "# deterministic initial condition\n",
    "#X₀ = ones(L,L);\n",
    "Y = similar(X₀);\n",
    "\n",
    "n = 10^4;\n",
    "\n",
    "Random.seed!(100)\n",
    "for β in β_vals\n",
    "    X = copy(X₀);\n",
    "    E_avg = E(X)/n;\n",
    "    M_avg = mean(X)/n;\n",
    "    for j in 1:n-1\n",
    "        Y .= g(X); \n",
    "        U = rand();\n",
    "        if (U< h(X, Y, β))\n",
    "            X .= Y;\n",
    "        end\n",
    "        E_avg += E(X)/n;\n",
    "        M_avg += mean(X)/n;\n",
    "    end\n",
    "    \n",
    "    push!(E_vals, E_avg);\n",
    "    push!(M_vals, M_avg);    \n",
    "    \n",
    "end\n",
    "\n"
   ]
  },
  {
   "cell_type": "code",
   "execution_count": null,
   "metadata": {},
   "outputs": [],
   "source": [
    "scatter(1 ./β_vals, E_vals, label=\"Numerical Estimates\", xscale=:log10)\n",
    "#xlabel!(L\"$\\beta$\")\n",
    "xlabel!(\"Temperature\")\n",
    "ylabel!(L\"$\\langle E\\rangle$\")"
   ]
  },
  {
   "cell_type": "code",
   "execution_count": null,
   "metadata": {},
   "outputs": [],
   "source": [
    "scatter(1 ./β_vals, abs.(M_vals),label=\"Numerical Estimates\", xscale=:log10)\n",
    "#xlabel!(L\"$\\beta$\")\n",
    "xlabel!(\"Temperature\")\n",
    "ylabel!(L\"$|\\langle M\\rangle|$\")"
   ]
  },
  {
   "cell_type": "code",
   "execution_count": null,
   "metadata": {},
   "outputs": [],
   "source": []
  }
 ],
 "metadata": {
  "@webio": {
   "lastCommId": null,
   "lastKernelId": null
  },
  "kernelspec": {
   "display_name": "Julia 1.7.2",
   "language": "julia",
   "name": "julia-1.7"
  },
  "language_info": {
   "file_extension": ".jl",
   "mimetype": "application/julia",
   "name": "julia",
   "version": "1.7.2"
  },
  "toc": {
   "base_numbering": 1,
   "nav_menu": {},
   "number_sections": true,
   "sideBar": true,
   "skip_h1_title": false,
   "title_cell": "Table of Contents",
   "title_sidebar": "Contents",
   "toc_cell": false,
   "toc_position": {},
   "toc_section_display": true,
   "toc_window_display": false
  }
 },
 "nbformat": 4,
 "nbformat_minor": 4
}
