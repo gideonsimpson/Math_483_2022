{
 "cells": [
  {
   "cell_type": "markdown",
   "id": "82ac4672-8656-46e0-a42d-d0b237efc78f",
   "metadata": {},
   "source": [
    "# Multivariate Normals\n",
    "Sample a multivariate normal using `Distributions.jl`"
   ]
  },
  {
   "cell_type": "code",
   "execution_count": null,
   "id": "cde9710f-62fe-4afd-81e9-0c80c00674e4",
   "metadata": {},
   "outputs": [],
   "source": [
    "using Plots\n",
    "using Random\n",
    "using Distributions"
   ]
  },
  {
   "cell_type": "code",
   "execution_count": null,
   "id": "25266c5b-5a64-4148-83de-0bb92d02489c",
   "metadata": {},
   "outputs": [],
   "source": [
    "μ = [2,1]; # mean\n",
    "Σ = [1.5 -1; -1 1.5]; #covariance\n",
    "@show μ;\n",
    "@show Σ;"
   ]
  },
  {
   "cell_type": "code",
   "execution_count": null,
   "id": "b1f71c02-38b9-43c5-beee-20d2631eee16",
   "metadata": {},
   "outputs": [],
   "source": [
    "mv_dist = MvNormal(μ, Σ)"
   ]
  },
  {
   "cell_type": "code",
   "execution_count": null,
   "id": "e9f15002-4cdf-4d6c-a0f9-48bcce2f8420",
   "metadata": {},
   "outputs": [],
   "source": [
    "n_samples = 10^3;\n",
    "Random.seed!(100);\n",
    "samples = rand(mv_dist, n_samples);"
   ]
  },
  {
   "cell_type": "code",
   "execution_count": null,
   "id": "1b6d5121-ecc9-4d45-9fbf-93a7404148b3",
   "metadata": {},
   "outputs": [],
   "source": [
    "scatter(samples[1,:], samples[2,:], label=\"Samples\")\n",
    "xlabel!(\"x\")\n",
    "ylabel!(\"y\")"
   ]
  },
  {
   "cell_type": "code",
   "execution_count": null,
   "id": "57ab57b3-5b2a-4762-8469-dffbc32875ff",
   "metadata": {},
   "outputs": [],
   "source": [
    "histogram2d(samples[1,:], samples[2,:])\n",
    "xlabel!(\"x\")\n",
    "ylabel!(\"y\")"
   ]
  }
 ],
 "metadata": {
  "kernelspec": {
   "display_name": "Julia 1.7.2",
   "language": "julia",
   "name": "julia-1.7"
  },
  "language_info": {
   "file_extension": ".jl",
   "mimetype": "application/julia",
   "name": "julia",
   "version": "1.7.2"
  }
 },
 "nbformat": 4,
 "nbformat_minor": 5
}
