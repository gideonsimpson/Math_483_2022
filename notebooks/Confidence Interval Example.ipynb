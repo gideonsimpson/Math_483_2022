{
 "cells": [
  {
   "cell_type": "markdown",
   "id": "dc6f9473-0a6c-4d27-a93d-2a674c573500",
   "metadata": {},
   "source": [
    "# Confidence Intervals and Output Analysis\n",
    "This shows how to compute/interpret confidence intervals of quantities of interest based on our sampled values.\n",
    "\n",
    "Recall that for large enough $N$, using the sample mean, $\\bar{Y}$, and sample standard deviation, $S$, the $(1-\\alpha)\\times 100$ % confidence interval is:\n",
    "$$\n",
    "\\bar{Y} \\pm z_{1-\\alpha/2}\\frac{S}{\\sqrt{N}}\n",
    "$$"
   ]
  },
  {
   "cell_type": "code",
   "execution_count": null,
   "id": "64fbf7bc-e775-491b-815b-d28e91e5e899",
   "metadata": {},
   "outputs": [],
   "source": [
    "using Plots\n",
    "using Random\n",
    "using Distributions\n",
    "using LinearAlgebra\n",
    "using Printf"
   ]
  },
  {
   "cell_type": "code",
   "execution_count": null,
   "id": "9ba74390-67be-421f-9735-f664f3788d18",
   "metadata": {},
   "outputs": [],
   "source": [
    "# for readability, these are good settings to use\n",
    "default(xtickfontsize=14,  ytickfontsize=14, ztickfontsize=14,\n",
    "    guidefontsize=14, legendfontsize=12, lw=2,ms=8)"
   ]
  },
  {
   "cell_type": "markdown",
   "id": "a50341bf-c429-4021-b359-985a9cf1d865",
   "metadata": {},
   "source": [
    "# Example\n",
    "In the first example, we try to estimate the mean of an exponential random variable with parameter $\\lambda>0$.  Recall that the mean is $\\lambda$.  This is a highly non-Gaussian distribution."
   ]
  },
  {
   "cell_type": "code",
   "execution_count": null,
   "id": "a9d7223d-c7a6-4ec3-82a7-cafbf95d871f",
   "metadata": {},
   "outputs": [],
   "source": [
    "λ_true = 1;\n",
    "exp_dist = Exponential(λ_true);\n",
    "\n"
   ]
  },
  {
   "cell_type": "markdown",
   "id": "a6d1c6b0-e445-4426-913b-8656cf42b5b4",
   "metadata": {},
   "source": [
    "The $1-\\alpha/2$ quantile, $z_{1-\\alpha/2}$, associated $\\Phi$, the $N(0,1)$ CDF can be obtained using `Distributions` with the following code:"
   ]
  },
  {
   "cell_type": "code",
   "execution_count": null,
   "id": "b05f5575-8eba-4799-9419-d70099f9efaf",
   "metadata": {},
   "outputs": [],
   "source": [
    "α = 0.05;\n",
    "z=quantile(Normal(), 1-α/2);\n",
    "@show z;"
   ]
  },
  {
   "cell_type": "markdown",
   "id": "c9b3be1d-7728-4e31-b03b-50ee5cb853c7",
   "metadata": {},
   "source": [
    "Sample and compute the associated CI"
   ]
  },
  {
   "cell_type": "code",
   "execution_count": null,
   "id": "7cf53171-0081-4624-af27-201c26be27d1",
   "metadata": {},
   "outputs": [],
   "source": [
    "N = 10^1;\n",
    "\n",
    "Random.seed!(100)\n",
    "samples = rand(exp_dist, N);\n",
    "CI = (mean(samples) - std(samples)*z/sqrt(N), \n",
    "    mean(samples) + std(samples)*z/sqrt(N));\n",
    "@show CI;"
   ]
  },
  {
   "cell_type": "markdown",
   "id": "0e36d834-92df-44fa-a284-7e464fd0987b",
   "metadata": {},
   "source": [
    "Verify that approximately $(1-\\alpha)\\times 100$% of all numerical CIs contain the true value;"
   ]
  },
  {
   "cell_type": "code",
   "execution_count": null,
   "id": "1155855e-cf16-4306-a968-bc0476355319",
   "metadata": {},
   "outputs": [],
   "source": [
    "n_indep_trials = 10^4;\n",
    "sample_means = zeros(n_indep_trials);\n",
    "\n",
    "n_contain = 0; # count the number of CIs that contain the true value\n",
    "\n",
    "Random.seed!(100)\n",
    "for j in 1:n_indep_trials\n",
    "    samples = rand(exp_dist, N);\n",
    "    sample_means[j] = mean(samples);\n",
    "    CI = (mean(samples) - std(samples)*z/sqrt(N), \n",
    "        mean(samples) + std(samples)*z/sqrt(N));\n",
    "    if (λ_true< CI[2]) && (λ_true> CI[1])\n",
    "        n_contain+=1;\n",
    "    end\n",
    "end\n",
    "@show n_contain/n_indep_trials;\n"
   ]
  },
  {
   "cell_type": "markdown",
   "id": "f8f00d98-a73f-49cd-bff2-b8db8f142b33",
   "metadata": {},
   "source": [
    "Verify the CLT, that, as $N$ gets large, the sample means are Gaussian."
   ]
  },
  {
   "cell_type": "code",
   "execution_count": null,
   "id": "511d6e4d-4e98-4d98-b156-bd2aca09e7f2",
   "metadata": {},
   "outputs": [],
   "source": [
    "histogram(sample_means,label=\"Sample Means\")\n",
    "xlabel!(\"x\")\n",
    "ylabel!(\"Frequency\")\n",
    "title!(@sprintf(\"Sample Mean Distribution with N = %d\", N))"
   ]
  }
 ],
 "metadata": {
  "kernelspec": {
   "display_name": "Julia 1.7.2",
   "language": "julia",
   "name": "julia-1.7"
  },
  "language_info": {
   "file_extension": ".jl",
   "mimetype": "application/julia",
   "name": "julia",
   "version": "1.7.2"
  }
 },
 "nbformat": 4,
 "nbformat_minor": 5
}
