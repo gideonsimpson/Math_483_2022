{
 "cells": [
  {
   "cell_type": "markdown",
   "id": "843bdc4f-1c4d-411c-9709-ad55fafd787e",
   "metadata": {},
   "source": [
    "# AR(1) Process\n",
    "Illustrate teh AR(1) procss\n",
    "$$\n",
    "X_{t+1} = X_t - \\alpha(X_t-m) +\\sigma \\xi_{t+1}\n",
    "$$\n",
    "where the constants $\\alpha$, $m$, and $\\sigma$ are specified, and, for simplicitly, $\\xi_{t+1} \\sim N(0,1)$ are i.i.d."
   ]
  },
  {
   "cell_type": "code",
   "execution_count": null,
   "id": "2d31479f-aeec-4247-961c-b0686ff69cbd",
   "metadata": {},
   "outputs": [],
   "source": [
    "using Random\n",
    "using Distributions\n",
    "using Statistics\n",
    "using Printf\n",
    "using Plots"
   ]
  },
  {
   "cell_type": "code",
   "execution_count": null,
   "id": "05ba26dd-cb8c-409d-98aa-636d16dd9a6e",
   "metadata": {},
   "outputs": [],
   "source": [
    "# for readability, these are good settings to use\n",
    "default(xtickfontsize=14,  ytickfontsize=14, ztickfontsize=14,\n",
    "    guidefontsize=14, legendfontsize=12, lw=2,ms=8)"
   ]
  },
  {
   "cell_type": "markdown",
   "id": "5a5222fd-c1cc-431f-b549-e85f5e14b1d7",
   "metadata": {},
   "source": [
    "# Short Run"
   ]
  },
  {
   "cell_type": "code",
   "execution_count": null,
   "id": "2f7fc164-cc67-401d-97b9-c1bb912ab553",
   "metadata": {},
   "outputs": [],
   "source": [
    "# set parameters\n",
    "n_iters = 100;\n",
    "α = 0.1;\n",
    "m = 1;\n",
    "σ = 0.5;\n",
    "\n",
    "X0 = 0.;\n"
   ]
  },
  {
   "cell_type": "code",
   "execution_count": null,
   "id": "fb17641b-6600-4f01-9397-4dc60eb526af",
   "metadata": {},
   "outputs": [],
   "source": [
    "X = X0;\n",
    "X_trajectory = [X];\n",
    "\n",
    "Random.seed!(100);\n",
    "for _ in 1:n_iters\n",
    "    X += -α * (X - m) + σ * randn();\n",
    "    push!(X_trajectory, X);\n",
    "end"
   ]
  },
  {
   "cell_type": "code",
   "execution_count": null,
   "id": "423384c7-42b0-4cd2-a7ac-58992a57bbcf",
   "metadata": {},
   "outputs": [],
   "source": [
    "plot(0:n_iters, X_trajectory,label=\"\")\n",
    "xlabel!(\"t\")\n",
    "ylabel!(\"Xₜ\")"
   ]
  },
  {
   "cell_type": "code",
   "execution_count": null,
   "id": "4321ac9f-4a56-491a-acb8-730aa0b9fd9f",
   "metadata": {},
   "outputs": [],
   "source": [
    "histogram(X_trajectory,label=\"AR(1) Samples\")\n",
    "xlabel!(\"x\")\n",
    "ylabel!(\"Frequency\")"
   ]
  },
  {
   "cell_type": "markdown",
   "id": "a8001f5d-2735-4cf2-a8ba-966eb52b8eb1",
   "metadata": {},
   "source": [
    "# Longer Run"
   ]
  },
  {
   "cell_type": "code",
   "execution_count": null,
   "id": "711f08f7-e146-4b82-8818-82e3c7ee25ac",
   "metadata": {},
   "outputs": [],
   "source": [
    "# set parameters\n",
    "n_iters = 10^4;\n",
    "α = 0.1;\n",
    "m = 1;\n",
    "σ = 0.5;\n",
    "\n",
    "X0 = 0.;\n"
   ]
  },
  {
   "cell_type": "code",
   "execution_count": null,
   "id": "7183c543-8217-4347-bb7a-647ebfdc42aa",
   "metadata": {},
   "outputs": [],
   "source": [
    "X = X0;\n",
    "X_trajectory = Float64[];\n",
    "\n",
    "Random.seed!(100);\n",
    "for _ in 1:n_iters\n",
    "    X += -α * (X - m) + σ * randn();\n",
    "    push!(X_trajectory, X);\n",
    "end"
   ]
  },
  {
   "cell_type": "code",
   "execution_count": null,
   "id": "d9185dac-bac5-490c-af09-827e228014a2",
   "metadata": {},
   "outputs": [],
   "source": [
    "plot(1:n_iters, X_trajectory,label=\"\")\n",
    "xlabel!(\"t\")\n",
    "ylabel!(\"Xₜ\")"
   ]
  },
  {
   "cell_type": "code",
   "execution_count": null,
   "id": "ebccad41-77a6-4b07-9ecf-32439db93e3f",
   "metadata": {},
   "outputs": [],
   "source": [
    "histogram(X_trajectory,label=\"AR(1) Samples\", norm=:pdf)\n",
    "xx= LinRange(-3,5,500)\n",
    "σ2α=σ^2 /(1 - (1-α)^2);\n",
    "plot!(xx, (@. 1/sqrt(2*π*σ2α) * exp(-(xx-m)^2/(2*σ2α))),label=\"Limiting pdf\")\n",
    "\n",
    "xlabel!(\"x\")\n",
    "ylabel!(\"Probability\")"
   ]
  },
  {
   "cell_type": "code",
   "execution_count": null,
   "id": "dee96545-6827-4bca-8bdc-1e61ba3799dc",
   "metadata": {},
   "outputs": [],
   "source": [
    "@show mean(X_trajectory);\n",
    "@show var(X_trajectory);\n",
    "@show m;\n",
    "@show σ2α;"
   ]
  },
  {
   "cell_type": "markdown",
   "id": "15b47685-3aaf-4b27-a887-1b682ca3a893",
   "metadata": {},
   "source": [
    "# Check Asymptotic Variance \n",
    "Recall that the asymptotic variance constant of the mean on $T$ samples, $\\bar{X}_T$ satisifes\n",
    "$$\n",
    "\\lim_{T\\to \\infty} T\\cdot \\mathrm{Var}(\\bar{X}_T) = \\sigma_\\alpha^2\\frac{2-\\alpha}{\\alpha}\n",
    "$$\n",
    "Consequently, the effective sample size is reduced when the estimate is made with $\\bar{X}_T$; instead of it being $\\approx\\sigma_\\alpha^2/T$, which is what one would have with independent samples, it is $\\sigma_\\alpha^2\\frac{2-\\alpha}{\\alpha}/T$.  The reduction is:\n",
    "$$\n",
    "\\frac{\\alpha}{2-\\alpha}\n",
    "$$"
   ]
  },
  {
   "cell_type": "code",
   "execution_count": null,
   "id": "24a0d322-e952-4a4f-90ad-1cd82e8803a6",
   "metadata": {},
   "outputs": [],
   "source": [
    "# set parameters\n",
    "n_trials = 10^2;\n",
    "T = 10^6;\n",
    "α = 0.1;\n",
    "m = 1;\n",
    "σ = 0.5;\n",
    "\n",
    "X0 = 0.;\n"
   ]
  },
  {
   "cell_type": "code",
   "execution_count": null,
   "id": "cd9dee93-101e-4aad-b6c4-0bd17b43201a",
   "metadata": {},
   "outputs": [],
   "source": [
    "Xavg_samples = Float64[];\n",
    "\n",
    "Random.seed!(100);\n",
    "for i in 1:n_trials\n",
    "    X = X0;\n",
    "    X_trajectory = Float64[];\n",
    "\n",
    "    for _ in 1:T\n",
    "        X += -α * (X - m) + σ * randn();\n",
    "        push!(X_trajectory, X);\n",
    "    end\n",
    "    push!(Xavg_samples, mean(X_trajectory));\n",
    "end"
   ]
  },
  {
   "cell_type": "code",
   "execution_count": null,
   "id": "e3c7e0f1-6b1f-4055-8a3e-257643cc3072",
   "metadata": {},
   "outputs": [],
   "source": [
    "histogram(Xavg_samples, label=\"Sample Means\")"
   ]
  },
  {
   "cell_type": "code",
   "execution_count": null,
   "id": "d159270c-eb8d-42f3-b445-533d96de332e",
   "metadata": {},
   "outputs": [],
   "source": [
    "@show T * var(Xavg_samples)"
   ]
  },
  {
   "cell_type": "code",
   "execution_count": null,
   "id": "d0fda78c-a910-49f2-82d7-a8332483e2df",
   "metadata": {},
   "outputs": [],
   "source": [
    "@show σ2α* (2-α)/α;"
   ]
  },
  {
   "cell_type": "code",
   "execution_count": null,
   "id": "0613f437-9643-4f95-9776-165697f15f5c",
   "metadata": {},
   "outputs": [],
   "source": [
    "@show σ2α;"
   ]
  },
  {
   "cell_type": "code",
   "execution_count": null,
   "id": "5a816c86-a085-487d-9c96-f250acbea2cd",
   "metadata": {},
   "outputs": [],
   "source": [
    "@show α/(2-α);"
   ]
  },
  {
   "cell_type": "code",
   "execution_count": null,
   "id": "c1b9ebd0-dbb8-4c7f-b245-3b6796b6f810",
   "metadata": {},
   "outputs": [],
   "source": []
  }
 ],
 "metadata": {
  "kernelspec": {
   "display_name": "Julia 1.7.2",
   "language": "julia",
   "name": "julia-1.7"
  },
  "language_info": {
   "file_extension": ".jl",
   "mimetype": "application/julia",
   "name": "julia",
   "version": "1.7.2"
  }
 },
 "nbformat": 4,
 "nbformat_minor": 5
}
