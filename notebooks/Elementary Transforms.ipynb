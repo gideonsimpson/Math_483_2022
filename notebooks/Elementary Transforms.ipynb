{
 "cells": [
  {
   "cell_type": "markdown",
   "id": "06ff7aca-5750-45c5-8c29-d90cc6cb4587",
   "metadata": {
    "tags": []
   },
   "source": [
    "# More Sampling from the Uniform and Normal Distributions"
   ]
  },
  {
   "cell_type": "code",
   "execution_count": null,
   "id": "be2e1398-041f-44ed-a3e0-e627f6296ab8",
   "metadata": {},
   "outputs": [],
   "source": [
    "using Random\n",
    "using Plots"
   ]
  },
  {
   "cell_type": "code",
   "execution_count": null,
   "id": "82228ed1-cfd4-4d26-9860-b1c360af97de",
   "metadata": {},
   "outputs": [],
   "source": [
    "# for readability, these are good settings to use\n",
    "default(xtickfontsize=14,  ytickfontsize=14, \n",
    "    guidefontsize=14, legendfontsize=12, lw=2,ms=8)"
   ]
  },
  {
   "cell_type": "markdown",
   "id": "9ae7018a-dbac-46fd-acbb-656400c8730b",
   "metadata": {},
   "source": [
    "# Transformed Uniforms\n",
    "Sample from $U(a,b)$ using the transform\n",
    "$$\n",
    "X = a + (b-a)Y, \\quad Y \\sim U(0,1)\n",
    "$$"
   ]
  },
  {
   "cell_type": "code",
   "execution_count": null,
   "id": "47615c7a-2873-4728-8e67-53c7c61c7a7e",
   "metadata": {},
   "outputs": [],
   "source": [
    "Random.seed!(100); # this is arbitrary\n",
    "a = -1;\n",
    "b = 2;\n",
    "\n",
    "samples = a .+ (b-a) *rand(10^4);\n"
   ]
  },
  {
   "cell_type": "code",
   "execution_count": null,
   "id": "202ff574-a7b3-41a9-86f9-ddca4c052df1",
   "metadata": {},
   "outputs": [],
   "source": [
    "histogram(samples,label=\"Samples\", norm=:pdf)\n",
    "xlabel!(\"x\")\n",
    "ylabel!(\"Probability\")"
   ]
  },
  {
   "cell_type": "markdown",
   "id": "8ebcb0cf-9ab3-4426-b211-a790e7881fbe",
   "metadata": {},
   "source": [
    "# Transformed Normals"
   ]
  },
  {
   "cell_type": "code",
   "execution_count": null,
   "id": "1bbd2f40-0954-4c1c-8a45-c14e62a37fec",
   "metadata": {},
   "outputs": [],
   "source": [
    "Random.seed!(100); # this is arbitrary\n",
    "μ = 2;\n",
    "σ = 0.1;\n",
    "\n",
    "samples = μ .+ σ *randn(10^4);\n"
   ]
  },
  {
   "cell_type": "code",
   "execution_count": null,
   "id": "db095478-f0d8-4eaa-941a-1485ca1d0e19",
   "metadata": {},
   "outputs": [],
   "source": [
    "histogram(samples,label=\"Samples\", norm=:pdf, nbins=25)\n",
    "xlabel!(\"x\")\n",
    "ylabel!(\"Probability\")"
   ]
  }
 ],
 "metadata": {
  "kernelspec": {
   "display_name": "Julia 1.7.2",
   "language": "julia",
   "name": "julia-1.7"
  },
  "language_info": {
   "file_extension": ".jl",
   "mimetype": "application/julia",
   "name": "julia",
   "version": "1.7.2"
  }
 },
 "nbformat": 4,
 "nbformat_minor": 5
}
