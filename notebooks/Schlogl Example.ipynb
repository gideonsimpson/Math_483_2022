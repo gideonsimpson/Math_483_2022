{
 "cells": [
  {
   "cell_type": "markdown",
   "id": "33afa395-372a-4ad3-8f16-24516a3b4592",
   "metadata": {},
   "source": [
    "# Bistable Schlogl Model\n",
    "Example of a Markov jump process.  Taken from Plechac & Wang (J. Chem. Phys. 2017).\n",
    "\n",
    "The process tracks $X_t$, the number of species of type $S$.  The state space is the non-negative integers.  Four reactions can occur."
   ]
  },
  {
   "cell_type": "code",
   "execution_count": null,
   "id": "bae4d8dd-7822-480e-ab67-02082ded6c38",
   "metadata": {},
   "outputs": [],
   "source": [
    "using Random\n",
    "using Distributions\n",
    "using Statistics\n",
    "using Printf\n",
    "using Plots"
   ]
  },
  {
   "cell_type": "code",
   "execution_count": null,
   "id": "65aae705-24ab-4564-90b5-d22df2a25148",
   "metadata": {},
   "outputs": [],
   "source": [
    "c1 = 3/25;\n",
    "c2 = .6/25^2;\n",
    "c3=.25 * 25;\n",
    "c4=2.95;\n",
    "a = 1;\n",
    "b = 2;"
   ]
  },
  {
   "cell_type": "code",
   "execution_count": null,
   "id": "8f388c02-f6bc-4ad6-a6ec-74f6d16fd573",
   "metadata": {},
   "outputs": [],
   "source": [
    "function get_rates(x)\n",
    "    r1 = c1 * a * x * (x-1);\n",
    "    r2 = c2 * x * (x-1) * (x-2);\n",
    "    r3 = c3 * b;\n",
    "    r4 = c4 * x;\n",
    "    \n",
    "    rtot = r1 + r2 + r3 + r4;\n",
    "    return [r1,r2,r3,r4], rtot\n",
    "end\n",
    "\n",
    "ΔX_vec = [1, -1, 1, -1];"
   ]
  },
  {
   "cell_type": "code",
   "execution_count": null,
   "id": "90a1162f-c83f-4704-baed-1531c461986f",
   "metadata": {},
   "outputs": [],
   "source": [
    "tmax = 200;\n",
    "X0 = 10;\n",
    "t0 = 0.;\n",
    "\n",
    "t = t0;\n",
    "X = X0;\n",
    "\n",
    "X_trajectory = [X];\n",
    "T_trajectory = [t];\n",
    "\n",
    "Random.seed!(100);\n",
    "\n",
    "while t< tmax\n",
    "    rates, rtot = get_rates(X);\n",
    "    ΔT = rand(Exponential(1/rtot));\n",
    "    t +=ΔT;\n",
    "    ΔX = ΔX_vec[rand(Categorical(rates/rtot))];\n",
    "    X+=ΔX;\n",
    "    push!(T_trajectory, t);\n",
    "    push!(X_trajectory, X);\n",
    "end\n"
   ]
  },
  {
   "cell_type": "code",
   "execution_count": null,
   "id": "09e0f8c9-b747-4e93-ac2f-6bf663bcb532",
   "metadata": {},
   "outputs": [],
   "source": [
    "plot(T_trajectory, X_trajectory, label=\"\")\n",
    "xlabel!(\"t\")\n",
    "ylabel!(\"Xₜ\")"
   ]
  }
 ],
 "metadata": {
  "kernelspec": {
   "display_name": "Julia 1.7.2",
   "language": "julia",
   "name": "julia-1.7"
  },
  "language_info": {
   "file_extension": ".jl",
   "mimetype": "application/julia",
   "name": "julia",
   "version": "1.7.2"
  }
 },
 "nbformat": 4,
 "nbformat_minor": 5
}
