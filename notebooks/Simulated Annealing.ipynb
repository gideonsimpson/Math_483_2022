{
 "cells": [
  {
   "cell_type": "markdown",
   "metadata": {},
   "source": [
    "# Simulated Annealing Example"
   ]
  },
  {
   "cell_type": "code",
   "execution_count": null,
   "metadata": {},
   "outputs": [],
   "source": [
    "using Plots\n",
    "using Random\n",
    "using Printf\n",
    "using QuadGK\n",
    "using LaTeXStrings\n",
    "using Distributions"
   ]
  },
  {
   "cell_type": "code",
   "execution_count": null,
   "metadata": {},
   "outputs": [],
   "source": [
    "# for readability, these are good settings to use\n",
    "default(xtickfontsize=14,  ytickfontsize=14, ztickfontsize=14,\n",
    "    guidefontsize=14, legendfontsize=12, lw=2,ms=8)"
   ]
  },
  {
   "cell_type": "markdown",
   "metadata": {},
   "source": [
    "## Concentration at Minima with Temperature"
   ]
  },
  {
   "cell_type": "code",
   "execution_count": null,
   "metadata": {},
   "outputs": [],
   "source": [
    "S = x-> x^4 - 1.5 * x^2 - 0.5 * x\n",
    "\n",
    "T_vals = [1,.1,.01];\n",
    "\n",
    "xx = -1.5:0.001:1.5;\n",
    "Splt = plot(xx, S.(xx),lw=2,label=\"\");\n",
    "xlabel!(Splt,L\"$x$\")\n",
    "ylabel!(Splt,L\"$S(x)$\")\n",
    "display(Splt);\n",
    "\n",
    "rhoplt = plot([],[],label=\"\",legend=:topleft);\n",
    "\n",
    "for T in T_vals\n",
    "    Z = quadgk(x->exp(-S(x)/T),-Inf,Inf)[1];\n",
    "    # add curves to the existing figure\n",
    "    plot!(rhoplt,xx, exp.(-S.(xx)/T)./Z,lw=2,\n",
    "        label=@sprintf(\"T = %g\",T));\n",
    "end\n",
    "xlabel!(rhoplt, L\"$x$\");\n",
    "ylabel!(rhoplt, L\"$f_T(x)$\");\n",
    "display(rhoplt);\n"
   ]
  },
  {
   "cell_type": "markdown",
   "metadata": {},
   "source": [
    "## Finding Global Minimum for Double Well\n"
   ]
  },
  {
   "cell_type": "code",
   "execution_count": null,
   "metadata": {},
   "outputs": [],
   "source": [
    "# good parameters\n",
    "T0 = 1; θ = 0.99;\n",
    "\n",
    "T = t-> T0 * θ^t;\n",
    "S = x-> x^4 - 1.5 * x^2 - 0.5 * x\n",
    "# acceptance probability\n",
    "a = (x,y,t)-> min(1, exp((S(x)-S(y))/T(t)));\n",
    "\n",
    "# RWM parameter\n",
    "σ = .1;\n",
    "\n",
    "# starting point\n",
    "X = -1.0;\n",
    "\n",
    "\n",
    "# trajectory\n",
    "X_vals = Float64[];\n",
    "\n",
    "# best prediction so far\n",
    "xopt = X;\n",
    "\n",
    "n = 10^4;\n",
    "\n",
    "Random.seed!(100);\n",
    "for t in 0:n-1\n",
    "    Y = rand(Normal(X,σ))\n",
    "    ζ = rand();\n",
    "    if (ζ< a(X,Y,t))\n",
    "        X = Y;\n",
    "    end\n",
    "    push!(X_vals, X)\n",
    "    \n",
    "    if S(X)< S(xopt)\n",
    "        xopt = X;\n",
    "    end\n",
    "    \n",
    "end\n",
    "\n",
    "println(@sprintf(\"x = %g, S(x) = %g\", xopt, S(xopt)));\n",
    "\n",
    "plot(1:n, X_vals, xscale=:log10,label=\"\", lw=2);\n",
    "xlabel!(L\"$n$\")\n",
    "ylabel!(L\"$X_n$\")"
   ]
  }
 ],
 "metadata": {
  "@webio": {
   "lastCommId": null,
   "lastKernelId": null
  },
  "kernelspec": {
   "display_name": "Julia 1.7.2",
   "language": "julia",
   "name": "julia-1.7"
  },
  "language_info": {
   "file_extension": ".jl",
   "mimetype": "application/julia",
   "name": "julia",
   "version": "1.7.2"
  },
  "toc": {
   "base_numbering": 1,
   "nav_menu": {},
   "number_sections": true,
   "sideBar": true,
   "skip_h1_title": false,
   "title_cell": "Table of Contents",
   "title_sidebar": "Contents",
   "toc_cell": false,
   "toc_position": {},
   "toc_section_display": true,
   "toc_window_display": false
  }
 },
 "nbformat": 4,
 "nbformat_minor": 4
}
