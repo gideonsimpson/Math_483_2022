{
 "cells": [
  {
   "cell_type": "markdown",
   "id": "d6f9efe4-7803-4d19-9be6-0d01a7f0f674",
   "metadata": {
    "tags": []
   },
   "source": [
    "# Hypersphere Samplers\n",
    "This demonsrates how to uniformly sample from the surface of the $n$-sphere, i.e., uniformly over the set\n",
    "$$\n",
    "\\sum_{i=1}^n x_i^2 = 1,\n",
    "$$\n",
    "for $n=2,3,\\ldots$.  This can then be used to build a new sampler over the entire $n$-sphere,\n",
    "$$\n",
    "\\sum_{i=1}^n x_i^2 \\leq 1,\n",
    "$$\n",
    "which avoids rejection."
   ]
  },
  {
   "cell_type": "code",
   "execution_count": null,
   "id": "060b6441-9cc1-448f-973d-ec92ae1e1fed",
   "metadata": {},
   "outputs": [],
   "source": [
    "using Plots\n",
    "using Random\n",
    "using Distributions\n",
    "using LinearAlgebra"
   ]
  },
  {
   "cell_type": "code",
   "execution_count": null,
   "id": "eb490c2b-777d-451e-b5fb-d8dc916d308e",
   "metadata": {},
   "outputs": [],
   "source": [
    "# for readability, these are good settings to use\n",
    "default(xtickfontsize=14,  ytickfontsize=14, ztickfontsize=14,\n",
    "    guidefontsize=14, legendfontsize=12, lw=2,ms=8)"
   ]
  },
  {
   "cell_type": "code",
   "execution_count": null,
   "id": "0298b2a5-cf6e-45de-a2c4-9e1d5229f8bb",
   "metadata": {},
   "outputs": [],
   "source": [
    "function surface_sampler(n)\n",
    "    X = randn(n); # generate n N(0,1) r.v.'s\n",
    "    R = norm(X); # compute the 2-norm.\n",
    "    Y = @. X/R; # rescale to be unit length\n",
    "    return Y\n",
    "end"
   ]
  },
  {
   "cell_type": "code",
   "execution_count": null,
   "id": "fd5ee63b-dad8-4d36-bb7b-305afa5baf3b",
   "metadata": {},
   "outputs": [],
   "source": [
    "n = 2;\n",
    "n_samples = 10^2;\n",
    "\n",
    "Random.seed!(100);\n",
    "\n",
    "samples = [surface_sampler(n) for _ in 1:n_samples];"
   ]
  },
  {
   "cell_type": "code",
   "execution_count": null,
   "id": "f1a1ca7c-5e52-4bac-9b9b-a06074af59b2",
   "metadata": {},
   "outputs": [],
   "source": [
    "x_samples = [x_[1] for x_ in samples];\n",
    "y_samples = [x_[2] for x_ in samples];\n",
    "scatter(x_samples, y_samples,label=\"Samples\",aspect_ratio=:equal)\n",
    "xlabel!(\"x\")\n",
    "ylabel!(\"y\")"
   ]
  },
  {
   "cell_type": "code",
   "execution_count": null,
   "id": "3e0acbb3-4e61-47eb-abd2-c105ca192aa9",
   "metadata": {},
   "outputs": [],
   "source": [
    "n = 3;\n",
    "n_samples = 10^2;\n",
    "\n",
    "Random.seed!(100);\n",
    "\n",
    "samples = [surface_sampler(n) for _ in 1:n_samples];\n",
    "x_samples = [x_[1] for x_ in samples];\n",
    "y_samples = [x_[2] for x_ in samples];\n",
    "z_samples = [x_[3] for x_ in samples];\n",
    "scatter(x_samples, y_samples,z_samples,label=\"Samples\",aspect_ratio=:equal)\n",
    "xlabel!(\"x\")\n",
    "ylabel!(\"y\")"
   ]
  },
  {
   "cell_type": "markdown",
   "id": "41a8abcb-95d0-45a2-aaf7-21a47c9d4479",
   "metadata": {},
   "source": [
    "# New Hypersphere Sampler\n",
    "Now that we have a method for sampling on the surface of the unit sphere, if we can sample the radial component, then we have a new sampler for the hypersphere.  Since, for variables which are uniform over the unit hypersphere,\n",
    "$$\n",
    "\\mathbb{P}(R\\leq r) = r^n,\n",
    "$$\n",
    "we can use inverse function sampling to sample $R$:\n",
    "$$\n",
    "R = U^{1/n}, \\quad U \\sim U([0,1]).\n",
    "$$\n",
    "Then, if $\\mathbf{Y}$ is the sample from the surface of the unit sphere,\n",
    "$$\n",
    "\\mathbf{X} = R \\cdot \\mathbf{Y}\n",
    "$$\n",
    "samples the solid unit sphere."
   ]
  },
  {
   "cell_type": "code",
   "execution_count": null,
   "id": "2e6b88ca-ee7e-4d6e-b543-a621e42efbcd",
   "metadata": {},
   "outputs": [],
   "source": [
    "function sphere_sampler(n)\n",
    "    # sample the \"angular\" component\n",
    "    X = randn(n); # generate n N(0,1) r.v.'s\n",
    "    R_ = norm(X); # compute the 2-norm.\n",
    "    Y = @. X/R_; # rescale to be unit length\n",
    "    \n",
    "    # sample the \"radial\" component\n",
    "    R = rand()^(1/n);\n",
    "    Z = @. R * Y;\n",
    "    \n",
    "    return Z\n",
    "end"
   ]
  },
  {
   "cell_type": "code",
   "execution_count": null,
   "id": "0c684643-ed72-496b-be54-866c78476977",
   "metadata": {},
   "outputs": [],
   "source": [
    "n = 2;\n",
    "n_samples = 10^3;\n",
    "\n",
    "Random.seed!(100);\n",
    "\n",
    "samples = [sphere_sampler(n) for _ in 1:n_samples];"
   ]
  },
  {
   "cell_type": "code",
   "execution_count": null,
   "id": "79492447-2107-4d49-92c8-1cc0e989a8e3",
   "metadata": {},
   "outputs": [],
   "source": [
    "x_samples = [x_[1] for x_ in samples];\n",
    "y_samples = [x_[2] for x_ in samples];\n",
    "scatter(x_samples, y_samples,label=\"Samples\",aspect_ratio=:equal)\n",
    "xlabel!(\"x\")\n",
    "ylabel!(\"y\")"
   ]
  },
  {
   "cell_type": "code",
   "execution_count": null,
   "id": "5347582e-5ff8-4da6-8477-43fae9f145a0",
   "metadata": {},
   "outputs": [],
   "source": [
    "n = 3;\n",
    "n_samples = 10^3;\n",
    "\n",
    "Random.seed!(100);\n",
    "\n",
    "samples = [sphere_sampler(n) for _ in 1:n_samples];\n",
    "x_samples = [x_[1] for x_ in samples];\n",
    "y_samples = [x_[2] for x_ in samples];\n",
    "z_samples = [x_[3] for x_ in samples];\n",
    "scatter(x_samples, y_samples,z_samples,label=\"Samples\",aspect_ratio=:equal)\n",
    "xlabel!(\"x\")\n",
    "ylabel!(\"y\")"
   ]
  }
 ],
 "metadata": {
  "kernelspec": {
   "display_name": "Julia 1.7.2",
   "language": "julia",
   "name": "julia-1.7"
  },
  "language_info": {
   "file_extension": ".jl",
   "mimetype": "application/julia",
   "name": "julia",
   "version": "1.7.2"
  }
 },
 "nbformat": 4,
 "nbformat_minor": 5
}
