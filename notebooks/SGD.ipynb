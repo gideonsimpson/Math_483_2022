{
 "cells": [
  {
   "cell_type": "code",
   "execution_count": null,
   "metadata": {},
   "outputs": [],
   "source": [
    "using Plots\n",
    "using Random"
   ]
  },
  {
   "cell_type": "code",
   "execution_count": null,
   "metadata": {},
   "outputs": [],
   "source": [
    "# for readability, these are good settings to use\n",
    "default(xtickfontsize=14,  ytickfontsize=14, ztickfontsize=14,\n",
    "    guidefontsize=14, legendfontsize=12, lw=2,ms=8)"
   ]
  },
  {
   "cell_type": "markdown",
   "metadata": {},
   "source": [
    "## Example\n",
    "Use SGD to minimize\n",
    "$$\n",
    "f(x) = \\mathbb{E}[\\tfrac{1}{2}((x+Y)^2-4)^2] = \\tfrac{1}{2} (x^4 -2x^2 +11)\n",
    "$$\n",
    "where $Y \\sim N(0,1)$."
   ]
  },
  {
   "cell_type": "code",
   "execution_count": null,
   "metadata": {},
   "outputs": [],
   "source": [
    "F = x->0.5 * (x^2 -4)^2\n",
    "Fp = x-> (x^2 -4) * 2 * x\n",
    "\n",
    "f = x-> 0.5 * (x^4 - 2*x^2 +11)\n",
    "\n",
    "# set the steps size/learning rate\n",
    "a = n -> 0.1/n;"
   ]
  },
  {
   "cell_type": "code",
   "execution_count": null,
   "metadata": {},
   "outputs": [],
   "source": [
    "x= 1;\n",
    "\n",
    "x_vals = Float64[];\n",
    "n_iter = 10^4;\n",
    "\n",
    "Random.seed!(100);\n",
    "for j = 1:n_iter\n",
    "    x = x - a(j) * Fp(x+randn());\n",
    "    push!(x_vals, x);\n",
    "end\n",
    "\n",
    "@show x;\n"
   ]
  },
  {
   "cell_type": "code",
   "execution_count": null,
   "metadata": {},
   "outputs": [],
   "source": [
    "plot(1:n_iter, x_vals, xscale=:log10,label=\"\")\n",
    "xlabel!(\"n\")\n",
    "ylabel!(\"x_n\")"
   ]
  },
  {
   "cell_type": "code",
   "execution_count": null,
   "metadata": {},
   "outputs": [],
   "source": [
    "xx = -1.5:0.01:1.5;\n",
    "plot(xx, f.(xx),label=\"f(x)\")\n",
    "scatter!([x], [f(x)],label=\"Estimate\")\n",
    "xlabel!(\"x\")"
   ]
  }
 ],
 "metadata": {
  "kernelspec": {
   "display_name": "Julia 1.7.2",
   "language": "julia",
   "name": "julia-1.7"
  },
  "language_info": {
   "file_extension": ".jl",
   "mimetype": "application/julia",
   "name": "julia",
   "version": "1.7.2"
  },
  "toc": {
   "base_numbering": 1,
   "nav_menu": {},
   "number_sections": true,
   "sideBar": true,
   "skip_h1_title": false,
   "title_cell": "Table of Contents",
   "title_sidebar": "Contents",
   "toc_cell": false,
   "toc_position": {},
   "toc_section_display": true,
   "toc_window_display": false
  }
 },
 "nbformat": 4,
 "nbformat_minor": 4
}
