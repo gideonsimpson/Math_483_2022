{
 "cells": [
  {
   "cell_type": "code",
   "execution_count": null,
   "metadata": {},
   "outputs": [],
   "source": [
    "using Plots\n",
    "using Random\n",
    "using Printf\n",
    "using LaTeXStrings\n",
    "using Distributions\n",
    "using DelimitedFiles\n",
    "using LinearAlgebra"
   ]
  },
  {
   "cell_type": "code",
   "execution_count": null,
   "metadata": {},
   "outputs": [],
   "source": [
    "# for readability, these are good settings to use\n",
    "default(xtickfontsize=14,  ytickfontsize=14, ztickfontsize=14,\n",
    "    guidefontsize=14, legendfontsize=12, lw=2,ms=8)"
   ]
  },
  {
   "cell_type": "markdown",
   "metadata": {},
   "source": [
    "## Load Traveling Salesman Data Set\n",
    "From https://github.com/pdrozdowski/TSPLib.Net/blob/master/TSPLIB95/tsp/bays29.tsp"
   ]
  },
  {
   "cell_type": "code",
   "execution_count": null,
   "metadata": {},
   "outputs": [],
   "source": [
    "# city locations\n",
    "data=DelimitedFiles.readdlm(\"Bays29_TSP.txt\");\n",
    "data = data[:,2:3];\n",
    "scatter(data[:,1], data[:,2],label=\"Cities\")\n",
    "xlabel!(L\"$x$\")\n",
    "ylabel!(L\"$y$\")"
   ]
  },
  {
   "cell_type": "code",
   "execution_count": null,
   "metadata": {},
   "outputs": [],
   "source": [
    "data"
   ]
  },
  {
   "cell_type": "markdown",
   "metadata": {},
   "source": [
    "## Construct Traveling Salesman Functions"
   ]
  },
  {
   "cell_type": "code",
   "execution_count": null,
   "metadata": {},
   "outputs": [],
   "source": [
    "# partial path reversal move\n",
    "function PPR(x)\n",
    "\n",
    "    m = length(x);\n",
    "    \n",
    "    # find two random indices in 2,...,m and order them\n",
    "    i = sample(2:m);\n",
    "    j = sample(setdiff(2:m,i));\n",
    "    \n",
    "    k = min(i,j)\n",
    "    l = max(i,j)\n",
    "    \n",
    "    # perform partial path reversal\n",
    "    y = copy(x);\n",
    "    @. y[k:l] = x[l:-1:k];\n",
    "    \n",
    "    return y\n",
    "end\n",
    "\n",
    "# norm between cities i and j\n",
    "function dist(i,j)\n",
    "   return norm(data[i,:]-data[j,:])\n",
    "end\n",
    "\n",
    "# cost function\n",
    "function S(x)\n",
    "    cost = 0.0;\n",
    "    \n",
    "    for j in 1:length(x)-1\n",
    "        cost+=dist(x[j],x[j+1]);\n",
    "    end\n",
    "    cost+= dist(x[1],x[end]);\n",
    "    return cost\n",
    "end\n",
    "\n",
    "# accept/reject function\n",
    "a = (x,y,T) -> exp((S(x)-S(y))/T)"
   ]
  },
  {
   "cell_type": "markdown",
   "metadata": {
    "tags": []
   },
   "source": [
    "## Trial Run"
   ]
  },
  {
   "cell_type": "code",
   "execution_count": null,
   "metadata": {},
   "outputs": [],
   "source": [
    "Random.seed!(100)\n",
    "# make city 1 the initial/final city\n",
    "X = 1:1:29|>collect;\n",
    "n_iter = 10^2;\n",
    "\n",
    "\n",
    "ΔE = 0;\n",
    "for t in 1:n_iter\n",
    "    Y = PPR(X);\n",
    "    ζ = rand();\n",
    "    ΔS += abs(S(X)-S(Y))/n_iter;\n",
    "    if (ζ< a(X,Y,1))\n",
    "        @. X = Y;\n",
    "    end\n",
    "end\n",
    "println(@sprintf(\"Mean ΔS: %g\", ΔS));"
   ]
  },
  {
   "cell_type": "markdown",
   "metadata": {},
   "source": [
    "Textbook suggests using $\\Delta S = 1000$, this this is quite reasonable"
   ]
  },
  {
   "cell_type": "markdown",
   "metadata": {},
   "source": [
    "# SA Run"
   ]
  },
  {
   "cell_type": "code",
   "execution_count": null,
   "metadata": {},
   "outputs": [],
   "source": [
    "Random.seed!(100)\n",
    "\n",
    "# make city 1 the initial/final city\n",
    "X = 1:1:29|>collect;\n",
    "#X = [1; randperm(28).+1];\n",
    "xopt = copy(X);\n",
    "X_vals = [copy(X)];\n",
    "\n",
    "n_iter = 10^5;\n",
    "\n",
    "# these values follow those set in the text\n",
    "T = t-> 1000/log(0.01 + t);\n",
    "\n",
    "for t in 1:n_iter\n",
    "    \n",
    "    Y = PPR(X);\n",
    "    ζ = rand();\n",
    "    if (ζ< a(X,Y,T(t)))\n",
    "        @. X = Y;\n",
    "    end\n",
    "    push!(X_vals, copy(X)); \n",
    "    if S(X)< S(xopt)\n",
    "        @. xopt = X;\n",
    "    end\n",
    "\n",
    "end\n",
    "\n",
    "println(@sprintf(\"Best Result = %g\", S(xopt)));\n",
    "println(X);"
   ]
  },
  {
   "cell_type": "code",
   "execution_count": null,
   "metadata": {},
   "outputs": [],
   "source": [
    "plot(1:n_iter+1,S.(X_vals), label=L\"$S_n$\",lw=2, xscale=:log10)\n",
    "plot!(1:n_iter+1,1 ./(1:n_iter+1) .* cumsum(S.(X_vals)), label=\"Running Avg.\", lw=2)\n",
    "xlabel!(L\"$n$\")"
   ]
  },
  {
   "cell_type": "code",
   "execution_count": null,
   "metadata": {},
   "outputs": [],
   "source": [
    "scatter(data[:,1], data[:,2],label=\"Cities\")\n",
    "scatter!([data[1,1]], [data[1,2]],label=\"Starting City\", marker=:x)\n",
    "# plot the path\n",
    "for j in 1:length(xopt)-1\n",
    "    plot!([data[xopt[j],1], data[xopt[j+1],1]],[data[xopt[j],2], data[xopt[j+1],2]],lw=2,label=\"\", color=:red)\n",
    "end\n",
    "plot!([data[xopt[end],1], data[xopt[1],1]],[data[xopt[end],2], data[xopt[1],2]],lw=2,label=\"\", color=:red)\n",
    "xlabel!(L\"$x$\")\n",
    "ylabel!(L\"$y$\")\n",
    "title!(\"Optimal Run\")"
   ]
  },
  {
   "cell_type": "code",
   "execution_count": null,
   "metadata": {},
   "outputs": [],
   "source": [
    "anim = @animate for i = 1:10^3+1\n",
    "    scatter(data[:,1], data[:,2],label=\"Cities\")\n",
    "    scatter!([data[1,1]], [data[1,2]],label=\"Starting City\", marker=:x)\n",
    "    for j in 1:length(xopt)-1\n",
    "        plot!([data[X_vals[i][j],1], data[X_vals[i][j+1],1]],\n",
    "            [data[X_vals[i][j],2], data[X_vals[i][j+1],2]],lw=2,label=\"\", color=:red)\n",
    "    end\n",
    "    plot!([data[X_vals[i][end],1], data[X_vals[i][1],1]],\n",
    "        [data[X_vals[i][end],2], data[X_vals[i][1],2]],lw=2,label=\"\", color=:red)\n",
    "    title!(@sprintf(\"Iteration = %d\", i-1));\n",
    "end"
   ]
  },
  {
   "cell_type": "code",
   "execution_count": null,
   "metadata": {},
   "outputs": [],
   "source": [
    "gif(anim,fps=60)"
   ]
  },
  {
   "cell_type": "code",
   "execution_count": null,
   "metadata": {},
   "outputs": [],
   "source": []
  }
 ],
 "metadata": {
  "@webio": {
   "lastCommId": null,
   "lastKernelId": null
  },
  "kernelspec": {
   "display_name": "Julia 1.7.2",
   "language": "julia",
   "name": "julia-1.7"
  },
  "language_info": {
   "file_extension": ".jl",
   "mimetype": "application/julia",
   "name": "julia",
   "version": "1.7.2"
  },
  "toc": {
   "base_numbering": 1,
   "nav_menu": {},
   "number_sections": true,
   "sideBar": true,
   "skip_h1_title": false,
   "title_cell": "Table of Contents",
   "title_sidebar": "Contents",
   "toc_cell": false,
   "toc_position": {},
   "toc_section_display": true,
   "toc_window_display": false
  }
 },
 "nbformat": 4,
 "nbformat_minor": 4
}
