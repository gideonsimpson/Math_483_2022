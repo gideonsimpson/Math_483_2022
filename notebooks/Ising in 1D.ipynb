{
 "cells": [
  {
   "cell_type": "markdown",
   "metadata": {},
   "source": [
    "# Ising in 1D"
   ]
  },
  {
   "cell_type": "code",
   "execution_count": null,
   "metadata": {},
   "outputs": [],
   "source": [
    "using Printf #string formatting\n",
    "using Random # random number utilities\n",
    "using Plots # plotting\n",
    "using Statistics # statistical tools\n",
    "using Distributions # useful distributions\n",
    "using LaTeXStrings\n",
    "using LinearAlgebra"
   ]
  },
  {
   "cell_type": "code",
   "execution_count": null,
   "metadata": {},
   "outputs": [],
   "source": [
    "# for readability, these are good settings to use\n",
    "default(xtickfontsize=14,  ytickfontsize=14, ztickfontsize=14,\n",
    "    guidefontsize=14, legendfontsize=12, lw=2,ms=8)"
   ]
  },
  {
   "cell_type": "markdown",
   "metadata": {},
   "source": [
    "## Setup Energy and Proposal\n",
    "The energy, with $J=1$, is\n",
    "$$\n",
    "E(x) = - \\sum_{i=1}^{N-1} \\sigma_i \\sigma_{i+1} - \\sigma_{N}\\sigma_1\n",
    "$$"
   ]
  },
  {
   "cell_type": "code",
   "execution_count": null,
   "metadata": {},
   "outputs": [],
   "source": [
    "# energy\n",
    "function E(x)\n",
    "    return -x[1:end-1]⋅x[2:end] -x[1] * x[end];\n",
    "end\n",
    "\n",
    "# proposal\n",
    "function g(x)\n",
    "    y = copy(x);\n",
    "    ξ = rand(DiscreteUniform(1,length(x)));\n",
    "    y[ξ] = -y[ξ];\n",
    "    return y;\n",
    "end\n",
    "\n",
    "#acceptance probability\n",
    "function h(x,y, β)\n",
    "    return min(1, exp(β * E(x)-β* E(y))); \n",
    "end\n"
   ]
  },
  {
   "cell_type": "code",
   "execution_count": null,
   "metadata": {},
   "outputs": [],
   "source": [
    "L = 64; # number of lattice sites\n",
    "β = 1; # inverse temperature\n",
    "\n",
    "X₀ = ones(Int8,L);\n",
    "\n",
    "X = copy(X₀);\n",
    "X_vals = [X];\n",
    "Y = similar(X);\n",
    "\n",
    "\n",
    "n = 10^4;\n",
    "\n",
    "Random.seed!(100)\n",
    "for j in 1:n-1\n",
    "    Y .= g(X); \n",
    "    U = rand();\n",
    "    if (U< h(X, Y, β))\n",
    "        @. X = Y;\n",
    "    end\n",
    "    push!(X_vals, copy(X))\n",
    "end\n"
   ]
  },
  {
   "cell_type": "code",
   "execution_count": null,
   "metadata": {},
   "outputs": [],
   "source": [
    "# create an animation of the spin evolution\n",
    "anim = @animate for i=1:10:1000\n",
    "    scatter(1:L, X_vals[i],label=\"\")\n",
    "    title!(@sprintf(\"n = %d\",i-1))\n",
    "    ylims!(-1.5,1.5)\n",
    "end"
   ]
  },
  {
   "cell_type": "code",
   "execution_count": null,
   "metadata": {},
   "outputs": [],
   "source": [
    "gif(anim, fps=10)"
   ]
  },
  {
   "cell_type": "code",
   "execution_count": null,
   "metadata": {},
   "outputs": [],
   "source": [
    "# compute energy\n",
    "E_vals = [E(x) for x in X_vals];\n",
    "plot(0:n-1, E_vals, label=\"Energy\",lw=2)\n",
    "plot!(0:n-1, cumsum(E_vals) ./ (1:n), label=\"Running Avg.\",lw=2)\n",
    "xlabel!(L\"$t$\")\n",
    "title!(LaTeXString(@sprintf(\"\\$L = %d,\\\\; \\\\beta = %g\\$\", L, β)))"
   ]
  },
  {
   "cell_type": "code",
   "execution_count": null,
   "metadata": {},
   "outputs": [],
   "source": [
    "# compute mean magnetization\n",
    "M_vals = [mean(x) for x in X_vals];\n",
    "plot(0:n-1, M_vals, label=\"Magnetization\",lw=2)\n",
    "plot!(0:n-1, cumsum(M_vals) ./ (1:n), label=\"Running Avg.\",lw=2)\n",
    "xlabel!(L\"$t$\")\n",
    "title!(LaTeXString(@sprintf(\"\\$L = %d,\\\\; \\\\beta = %g\\$\", L, β)))"
   ]
  },
  {
   "cell_type": "markdown",
   "metadata": {},
   "source": [
    "## Energy and Magnetization vs. Temperature\n",
    "Compare mean energy and mean magnetization against temperature through independents runs."
   ]
  },
  {
   "cell_type": "code",
   "execution_count": null,
   "metadata": {},
   "outputs": [],
   "source": [
    "# energy and spin vs. temperature\n",
    "\n",
    "\n",
    "L = 4; # number of lattice sites\n",
    "β_vals = 10 .^(-1:0.2:1);\n",
    "\n",
    "M_vals = Float64[];\n",
    "E_vals =  Float64[];\n",
    "\n",
    "X₀ = -ones(Int8,L);\n",
    "Y = similar(X₀);\n",
    "\n",
    "n = 10^6;\n",
    "\n",
    "Random.seed!(100)\n",
    "for β in β_vals\n",
    "    X = copy(X₀);\n",
    "    E_avg = E(X)/n;\n",
    "    M_avg = mean(X)/n;\n",
    "    for j in 1:n-1\n",
    "        Y .= g(X); \n",
    "        U = rand();\n",
    "        if (U< h(X, Y, β))\n",
    "            @. X = Y;\n",
    "        end\n",
    "        E_avg += E(X)/n;\n",
    "        M_avg += mean(X)/n;\n",
    "    end\n",
    "    \n",
    "    push!(E_vals, E_avg);\n",
    "    push!(M_vals, M_avg);    \n",
    "    \n",
    "end\n",
    "\n"
   ]
  },
  {
   "cell_type": "code",
   "execution_count": null,
   "metadata": {},
   "outputs": [],
   "source": [
    "scatter(β_vals, E_vals, label=\"Numerical Estimates\")\n",
    "plot!(β_vals, -L * ones(length(β_vals)),label=\"Lower Bound\", lw=2, ls=:dash)\n",
    "xlabel!(L\"$\\beta$\")\n",
    "ylabel!(L\"$\\langle E\\rangle$\")"
   ]
  },
  {
   "cell_type": "code",
   "execution_count": null,
   "metadata": {},
   "outputs": [],
   "source": [
    "scatter(β_vals, abs.(M_vals),label=\"Numerical Estimates\")\n",
    "xlabel!(L\"$\\beta$\")\n",
    "ylabel!(L\"$|\\langle M\\rangle|$\")"
   ]
  },
  {
   "cell_type": "code",
   "execution_count": null,
   "metadata": {},
   "outputs": [],
   "source": []
  }
 ],
 "metadata": {
  "@webio": {
   "lastCommId": null,
   "lastKernelId": null
  },
  "kernelspec": {
   "display_name": "Julia 1.7.2",
   "language": "julia",
   "name": "julia-1.7"
  },
  "language_info": {
   "file_extension": ".jl",
   "mimetype": "application/julia",
   "name": "julia",
   "version": "1.7.2"
  },
  "toc": {
   "base_numbering": 1,
   "nav_menu": {},
   "number_sections": true,
   "sideBar": true,
   "skip_h1_title": false,
   "title_cell": "Table of Contents",
   "title_sidebar": "Contents",
   "toc_cell": false,
   "toc_position": {},
   "toc_section_display": true,
   "toc_window_display": false
  }
 },
 "nbformat": 4,
 "nbformat_minor": 4
}
