{
 "cells": [
  {
   "cell_type": "markdown",
   "id": "199adbc8-10cb-4482-be11-90b783eae78b",
   "metadata": {
    "tags": []
   },
   "source": [
    "# Simple Markov Chain\n",
    "This looks at the 2 state Markov Chain with transition matrix\n",
    "$$\n",
    "P = \\begin{pmatrix} 1-p & p\\\\ q & 1-q\\end{pmatrix}\n",
    "$$\n",
    "with parameters $0\\leq p, q \\leq 1$."
   ]
  },
  {
   "cell_type": "code",
   "execution_count": null,
   "id": "e8a5e7bb-3f41-406b-bb61-d025036b03bb",
   "metadata": {},
   "outputs": [],
   "source": [
    "using Plots\n",
    "using Random\n",
    "using Distributions\n",
    "using LinearAlgebra\n",
    "using Printf"
   ]
  },
  {
   "cell_type": "code",
   "execution_count": null,
   "id": "38dd0fb3-1a7f-4993-857d-3233af348ae0",
   "metadata": {},
   "outputs": [],
   "source": [
    "# set up matrix\n",
    "p = 0.25;\n",
    "q = 0.65;\n",
    "\n",
    "P = [1-p p; q 1-q]"
   ]
  },
  {
   "cell_type": "code",
   "execution_count": null,
   "id": "e4e69cbd-696b-4621-8a2a-d6813b9f661e",
   "metadata": {},
   "outputs": [],
   "source": [
    "# initial distribution\n",
    "π0 = Float64[1 0];\n",
    "\n",
    "n_iters = 10^2;\n",
    "πt = deepcopy(π0);\n",
    "for _ in 1:n_iters\n",
    "    πt .= πt * P;\n",
    "end\n",
    "@show πt;"
   ]
  },
  {
   "cell_type": "code",
   "execution_count": null,
   "id": "a9ed8369-e76e-4870-aca4-5346f1d7cd7b",
   "metadata": {},
   "outputs": [],
   "source": [
    "# initial distribution\n",
    "π0 = Float64[0.5 0.5];\n",
    "\n",
    "n_iters = 10^1;\n",
    "πt = deepcopy(π0);\n",
    "π_trajectory = [deepcopy(πt)];\n",
    "for _ in 1:n_iters\n",
    "    πt .= πt * P;\n",
    "    push!(π_trajectory, deepcopy(πt));\n",
    "end\n",
    "@show πt;\n",
    "\n",
    "scatter(0:n_iters, [πt_[1] for πt_ in π_trajectory], label=\"π₁\")\n",
    "scatter!(0:n_iters, [πt_[2] for πt_ in π_trajectory], label=\"π₂\")\n",
    "xlabel!(\"t\")"
   ]
  },
  {
   "cell_type": "markdown",
   "id": "4672940a-609a-46c7-aad9-ccb3baf7f020",
   "metadata": {},
   "source": [
    "# Running the Chain\n",
    "Above, we evolved $\\pi^{(t)}$, the distribution.  Here we is one way of sampling a trajectory:"
   ]
  },
  {
   "cell_type": "code",
   "execution_count": null,
   "id": "4fa4a010-39f6-4c7f-b5c9-1c6d8d3133b6",
   "metadata": {},
   "outputs": [],
   "source": [
    "X0 = 1;\n",
    "n_iters = 10;\n",
    "\n",
    "X = X0;\n",
    "X_trajectory = [X];\n",
    "for _ in 1:n_iters\n",
    "    X = rand(Categorical(P[X,:]));\n",
    "    push!(X_trajectory, X);\n",
    "end\n",
    "\n",
    "scatter(0:n_iters, X_trajectory,label=\"\")\n",
    "xlabel!(\"t\")\n",
    "ylabel!(\"Xₜ\")"
   ]
  },
  {
   "cell_type": "code",
   "execution_count": null,
   "id": "4d93fb7f-cf14-43f9-ab0c-100c858377d4",
   "metadata": {},
   "outputs": [],
   "source": []
  }
 ],
 "metadata": {
  "kernelspec": {
   "display_name": "Julia 1.7.2",
   "language": "julia",
   "name": "julia-1.7"
  },
  "language_info": {
   "file_extension": ".jl",
   "mimetype": "application/julia",
   "name": "julia",
   "version": "1.7.2"
  }
 },
 "nbformat": 4,
 "nbformat_minor": 5
}
