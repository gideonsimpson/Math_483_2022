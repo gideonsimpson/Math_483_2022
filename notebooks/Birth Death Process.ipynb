{
 "cells": [
  {
   "cell_type": "code",
   "execution_count": null,
   "id": "7758766d-b39b-4121-a26d-449c87287f83",
   "metadata": {},
   "outputs": [],
   "source": [
    "using Random\n",
    "using Distributions\n",
    "using Statistics\n",
    "using Printf\n",
    "using Plots"
   ]
  },
  {
   "cell_type": "code",
   "execution_count": null,
   "id": "178a441a-1c25-4a56-a83b-81bde1355eea",
   "metadata": {},
   "outputs": [],
   "source": [
    "# for readability, these are good settings to use\n",
    "default(xtickfontsize=14,  ytickfontsize=14, ztickfontsize=14,\n",
    "    guidefontsize=14, legendfontsize=12, lw=2,ms=8)"
   ]
  },
  {
   "cell_type": "markdown",
   "id": "77517d25-8543-4d5c-b99a-4b808949a119",
   "metadata": {},
   "source": [
    "# Birth-Death Process\n",
    "Example 1.12 of Rubinstein & Kroese with fixed birth and death rates for all states"
   ]
  },
  {
   "cell_type": "code",
   "execution_count": null,
   "id": "1a2f3f02-6ac2-4a6c-8e7e-f62ecc2eed48",
   "metadata": {},
   "outputs": [],
   "source": [
    "b = 1.5; # birth-death rates\n",
    "d = 1.;\n",
    "\n",
    "X0 = 0; # initial population\n",
    "T0 = 0.;\n",
    "n_iters = 10;"
   ]
  },
  {
   "cell_type": "code",
   "execution_count": null,
   "id": "7e9cadf7-f183-416e-9969-f499af77b4ed",
   "metadata": {},
   "outputs": [],
   "source": [
    "X = X0;\n",
    "T = T0;\n",
    "X_trajectory = Int[X];\n",
    "T_trajectory = Float64[T];\n",
    "\n",
    "Random.seed!(100);\n",
    "\n",
    "for _ in 1:n_iters\n",
    "    # compute holding time\n",
    "    if(X >0)\n",
    "        q = b + d;\n",
    "    else\n",
    "        q = b;\n",
    "    end\n",
    "    ΔT = rand(Exponential(1/q));\n",
    "    if(X>0)\n",
    "        # note the use of the affine transform to map [1,2] to [-1,1]\n",
    "        ΔX = 2*rand(Categorical([d/q, b/q]))-3;\n",
    "    else\n",
    "        ΔX = 1;\n",
    "    end\n",
    "    X = X + ΔX;\n",
    "    T = T + ΔT;\n",
    "    push!(X_trajectory, X);\n",
    "    push!(T_trajectory, T);     \n",
    "end"
   ]
  },
  {
   "cell_type": "markdown",
   "id": "6290ac0b-75f4-47fb-97d2-68c579e10d4d",
   "metadata": {},
   "source": [
    "To get the best visualization, we build a piecewise constant interpolant"
   ]
  },
  {
   "cell_type": "code",
   "execution_count": null,
   "id": "505f54e5-958b-497d-818f-047a996a7562",
   "metadata": {},
   "outputs": [],
   "source": [
    "function X_interp(t)\n",
    "    if t< T_trajectory[end]\n",
    "        return X_trajectory[findfirst(t.<=T_trajectory)];\n",
    "    else\n",
    "        return X_trajectory[end]\n",
    "    end\n",
    "    \n",
    "end"
   ]
  },
  {
   "cell_type": "code",
   "execution_count": null,
   "id": "3412120b-fb55-4151-bd4d-834260adf2a4",
   "metadata": {},
   "outputs": [],
   "source": [
    "t = LinRange(0,2,500);\n",
    "plot(t, X_interp.(t),label=\"Xₜ\")\n",
    "scatter!(T_trajectory, X_trajectory, label=\"Jumps\")\n",
    "xlabel!(\"t\")"
   ]
  }
 ],
 "metadata": {
  "kernelspec": {
   "display_name": "Julia 1.7.2",
   "language": "julia",
   "name": "julia-1.7"
  },
  "language_info": {
   "file_extension": ".jl",
   "mimetype": "application/julia",
   "name": "julia",
   "version": "1.7.2"
  }
 },
 "nbformat": 4,
 "nbformat_minor": 5
}
