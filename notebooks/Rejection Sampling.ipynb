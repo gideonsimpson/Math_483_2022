{
 "cells": [
  {
   "cell_type": "markdown",
   "id": "c520dec4-fb59-4f29-8afa-d1747f10a880",
   "metadata": {},
   "source": [
    "# Demonstrate Rejection Sampling\n",
    "This performs rejection sampling on the double well"
   ]
  },
  {
   "cell_type": "code",
   "execution_count": null,
   "id": "5bae5a68-c199-4df9-b6f6-b6d0a2b02ca9",
   "metadata": {},
   "outputs": [],
   "source": [
    "using Random\n",
    "using Plots\n",
    "using QuadGK\n",
    "using Distributions"
   ]
  },
  {
   "cell_type": "code",
   "execution_count": null,
   "id": "0188bb76-4b18-4269-98d6-33b85325ab98",
   "metadata": {},
   "outputs": [],
   "source": [
    "# for readability, these are good settings to use\n",
    "default(xtickfontsize=14,  ytickfontsize=14, \n",
    "    guidefontsize=14, legendfontsize=12, lw=2,ms=8)"
   ]
  },
  {
   "cell_type": "markdown",
   "id": "df0b8650-693e-45f7-b2c1-9a661cc4bc7a",
   "metadata": {},
   "source": [
    "# Example\n",
    "Start with the __unnormalized__ PDF,\n",
    "$$\n",
    "f(x) \\propto \\exp(-(x^2 -1)^2)1_{[-2,2]}(x)\n",
    "$$\n",
    "To use inverse function sampling on this problem, we will first need to, numerically, compute the normalization, $Z$,\n",
    "such that\n",
    "$$\n",
    "\\int Z^{-1}\\exp(-(x^2 -1)^2)1_{[-2,2]}(x)dx = 1.\n",
    "$$\n",
    "So\n",
    "$$\n",
    "Z = \\int_{-2}^2 \\exp(-(x^2 -1)^2) dx.\n",
    "$$"
   ]
  },
  {
   "cell_type": "code",
   "execution_count": null,
   "id": "956e5827-e365-48ff-90b8-9375d815d5c0",
   "metadata": {},
   "outputs": [],
   "source": [
    "Z = quadgk(x->exp(-(x^2-1)^2), -2,2)[1];\n",
    "@show Z;"
   ]
  },
  {
   "cell_type": "markdown",
   "id": "2fb5f64a-759f-4f05-8a21-4fabc5b2069c",
   "metadata": {},
   "source": [
    "Note that extract the first return with the `[1]`, as teh second value is an estimate of the error, which we do not need right now."
   ]
  },
  {
   "cell_type": "code",
   "execution_count": null,
   "id": "040e2bae-0e4f-43e7-bdef-03dfe77f7f0f",
   "metadata": {},
   "outputs": [],
   "source": [
    "# define the density\n",
    "f = x->exp(-(x^2-1)^2)/Z;"
   ]
  },
  {
   "cell_type": "code",
   "execution_count": null,
   "id": "d769b3fc-ffd5-437c-ad23-b870b1987534",
   "metadata": {},
   "outputs": [],
   "source": [
    "xx = LinRange(-2,2,200);\n",
    "C = 2.1;\n",
    "\n",
    "plot(xx, f.(xx), label=\"Target Density\")\n",
    "plot!(xx, (1/4) *  ones(size(xx)),label=\"Proposal\")\n",
    "plot!(xx, C* (1/4) *  ones(size(xx)),label=\"C × Proposal\")\n",
    "xlabel!(\"x\")\n",
    "ylabel!(\"Probability\")"
   ]
  },
  {
   "cell_type": "code",
   "execution_count": null,
   "id": "5255ff2a-f879-4886-9949-85b2a42739a8",
   "metadata": {},
   "outputs": [],
   "source": [
    "unif_dist = Uniform(-2,2);\n",
    "\n",
    "function double_well_rejection_sample(;max_iter = 1000)\n",
    "    for _ in 1:max_iter\n",
    "        X = rand(unif_dist);\n",
    "        Y = rand(Uniform(0, C))\n",
    "        if(Y <= f(X))\n",
    "            return X\n",
    "        end\n",
    "    end\n",
    "    println(\"ERROR: Failed to sample\")\n",
    "    return -10;\n",
    "end"
   ]
  },
  {
   "cell_type": "code",
   "execution_count": null,
   "id": "6c6294f1-126d-4e46-9eac-1d4f8673affb",
   "metadata": {},
   "outputs": [],
   "source": [
    "n = 10^4;\n",
    "\n",
    "Random.seed!(100);\n",
    "samples = [double_well_rejection_sample() for _ in 1:n];"
   ]
  },
  {
   "cell_type": "code",
   "execution_count": null,
   "id": "95cdcf48-3faa-4cdc-9983-78be6a07dd7c",
   "metadata": {},
   "outputs": [],
   "source": [
    "xx = LinRange(-2,2,200);\n",
    "histogram(samples, label=\"Samples\", norm =:pdf)\n",
    "plot!(xx, f.(xx), label=\"Density\")\n",
    "xlabel!(\"x\")\n",
    "ylabel!(\"Probability\")"
   ]
  }
 ],
 "metadata": {
  "kernelspec": {
   "display_name": "Julia 1.7.2",
   "language": "julia",
   "name": "julia-1.7"
  },
  "language_info": {
   "file_extension": ".jl",
   "mimetype": "application/julia",
   "name": "julia",
   "version": "1.7.2"
  }
 },
 "nbformat": 4,
 "nbformat_minor": 5
}
