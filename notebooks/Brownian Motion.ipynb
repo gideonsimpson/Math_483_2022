{
 "cells": [
  {
   "cell_type": "markdown",
   "id": "7533703f-f924-4fa4-a76a-522672f23229",
   "metadata": {},
   "source": [
    "# Sampling a Brownian Motion\n",
    "Using the independence of nonoverlapping increments\n",
    "$$\n",
    "W_{t + \\Delta t} = W_t + \\sqrt{\\Delta t}\\xi, \\quad \\xi \\sim N(0,1)\n",
    "$$"
   ]
  },
  {
   "cell_type": "code",
   "execution_count": null,
   "id": "fdff3d3a-9f2f-4c96-8889-b8d9b081e700",
   "metadata": {},
   "outputs": [],
   "source": [
    "using Random\n",
    "using Statistics\n",
    "using Printf\n",
    "using Plots"
   ]
  },
  {
   "cell_type": "code",
   "execution_count": null,
   "id": "63c66ba1-002f-46bc-bf93-d2990bbaa5bb",
   "metadata": {},
   "outputs": [],
   "source": [
    "n_steps = 1000;\n",
    "Δt = 0.01;\n",
    "W0 = 0.;"
   ]
  },
  {
   "cell_type": "code",
   "execution_count": null,
   "id": "1029764c-47cd-4a61-b5be-71d567aa7352",
   "metadata": {},
   "outputs": [],
   "source": [
    "W = W0;\n",
    "t = 0.;\n",
    "W_trajectory = [W];\n",
    "t_trajectory = [t];\n",
    "\n",
    "Random.seed!(100)\n",
    "\n",
    "for _ in 1:n_steps\n",
    "    W += sqrt(Δt) * randn();\n",
    "    t += Δt;\n",
    "    push!(W_trajectory, W);\n",
    "    push!(t_trajectory, t);\n",
    "end"
   ]
  },
  {
   "cell_type": "code",
   "execution_count": null,
   "id": "0cdbb83d-2583-4950-abc6-23161cc80e5d",
   "metadata": {},
   "outputs": [],
   "source": [
    "plot(t_trajectory, W_trajectory, label=\"\")\n",
    "xlabel!(\"t\")\n",
    "ylabel!(\"Wₜ\")"
   ]
  }
 ],
 "metadata": {
  "kernelspec": {
   "display_name": "Julia 1.7.2",
   "language": "julia",
   "name": "julia-1.7"
  },
  "language_info": {
   "file_extension": ".jl",
   "mimetype": "application/julia",
   "name": "julia",
   "version": "1.7.2"
  }
 },
 "nbformat": 4,
 "nbformat_minor": 5
}
