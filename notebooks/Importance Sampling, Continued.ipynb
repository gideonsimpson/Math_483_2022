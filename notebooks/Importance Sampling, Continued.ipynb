{
 "cells": [
  {
   "cell_type": "markdown",
   "id": "1a94f79c-ebfa-4863-a65a-c488ff81bc8d",
   "metadata": {},
   "source": [
    "# Importance Sampling with Parametric Distributions\n",
    "This is based on Example 5.10 of the text."
   ]
  },
  {
   "cell_type": "code",
   "execution_count": null,
   "id": "6c1091f0-491a-49f8-b50b-dba7f0d3cac5",
   "metadata": {},
   "outputs": [],
   "source": [
    "using Printf #string formatting\n",
    "using Random # random number utilities\n",
    "using Plots # plotting\n",
    "using Statistics # statistical tools\n",
    "using Distributions # useful distributions\n",
    "using QuadGK\n",
    "using HypothesisTests\n",
    "using Bootstrap"
   ]
  },
  {
   "cell_type": "code",
   "execution_count": null,
   "id": "c88979d7-93af-4a54-873b-8d65191aeb46",
   "metadata": {},
   "outputs": [],
   "source": [
    "# for readability, these are good settings to use\n",
    "default(xtickfontsize=14,  ytickfontsize=14, ztickfontsize=14, \n",
    "    guidefontsize=14, legendfontsize=12, lw=2,ms=8)"
   ]
  },
  {
   "cell_type": "markdown",
   "id": "84056476-63fd-4ebf-8ab4-d4d85e3b89fa",
   "metadata": {},
   "source": [
    "Note that the `Exponential(θ)` distribution in `Distributions.jl` corresponds to\n",
    "$$\n",
    "\\theta^{-1}e^{-x/\\theta}dx\n",
    "$$"
   ]
  },
  {
   "cell_type": "code",
   "execution_count": null,
   "id": "b0053d31-6d1c-4ed5-a482-69071961d1cb",
   "metadata": {},
   "outputs": [],
   "source": [
    "u = 1000;\n",
    "exp_dist1 = Exponential(u);\n",
    "v = 2 * u;\n",
    "exp_dist2 = Exponential(v);"
   ]
  },
  {
   "cell_type": "code",
   "execution_count": null,
   "id": "7f094550-ae09-41d0-af86-a784f93e88ad",
   "metadata": {},
   "outputs": [],
   "source": [
    "n_samples = 10^4;\n",
    "Random.seed!(100);\n",
    "direct_samples = rand(exp_dist1, n_samples);\n",
    "importance_ = rand(exp_dist2, n_samples);\n",
    "importance_samples = [X * ((1/u) * exp(-X/u))/((1/v) * exp(-X/v)) for X in importance_];\n",
    "\n",
    "@show mean(direct_samples);\n",
    "@show var(direct_samples);\n",
    "\n",
    "@show mean(importance_samples);\n",
    "@show var(importance_samples);"
   ]
  },
  {
   "cell_type": "code",
   "execution_count": null,
   "id": "eaea0437-758b-4fd1-a009-896722c78048",
   "metadata": {},
   "outputs": [],
   "source": [
    "n_boot = 10^4;\n",
    "bs_direct = bootstrap(mean, direct_samples, BasicSampling(n_boot));\n",
    "bs_importance = bootstrap(mean, importance_samples, BasicSampling(n_boot));\n",
    "α = 0.05;\n",
    "ci_level = 1-α;\n",
    "bci_direct_percentile = confint(bs_direct, PercentileConfInt(ci_level));\n",
    "bci_importance_percentile = confint(bs_importance, PercentileConfInt(ci_level));"
   ]
  },
  {
   "cell_type": "code",
   "execution_count": null,
   "id": "b9f9712c-32bb-4915-9892-64d8e67b81a1",
   "metadata": {},
   "outputs": [],
   "source": [
    "@printf(\"Percentile %g CI for Direct Mean: (%g, %g)\\n\", \n",
    "    ci_level, bci_direct_percentile[1][2],  bci_direct_percentile[1][3]);\n",
    "@printf(\"Percentile %g CI for Importance Mean: (%g, %g)\\n\", \n",
    "    ci_level, bci_importance_percentile[1][2],  bci_importance_percentile[1][3]);"
   ]
  }
 ],
 "metadata": {
  "kernelspec": {
   "display_name": "Julia 1.7.2",
   "language": "julia",
   "name": "julia-1.7"
  },
  "language_info": {
   "file_extension": ".jl",
   "mimetype": "application/julia",
   "name": "julia",
   "version": "1.7.2"
  }
 },
 "nbformat": 4,
 "nbformat_minor": 5
}
