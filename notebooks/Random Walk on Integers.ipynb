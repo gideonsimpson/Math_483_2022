{
 "cells": [
  {
   "cell_type": "markdown",
   "id": "d93950ae-5fb2-461a-a871-1d5b2ab05200",
   "metadata": {},
   "source": [
    "# Illustrate a Random Walk on the Integers\n",
    "This follows Example 2.11 out of the text.  Fixing $p \\in (0,1)$, and $q= 1-p$:\n",
    "$$\n",
    "X_{t+1} = \\begin{cases} X_t + 1 & \\text{with probability $p$}\\\\\n",
    "X_t -1 & \\text{with probability $q$}\n",
    "\\end{cases}\n",
    "$$"
   ]
  },
  {
   "cell_type": "code",
   "execution_count": null,
   "id": "73941c92-c568-4f72-8f75-523ebe70b62c",
   "metadata": {},
   "outputs": [],
   "source": [
    "using Random\n",
    "using Distributions\n",
    "using Statistics\n",
    "using Printf\n",
    "using Plots"
   ]
  },
  {
   "cell_type": "code",
   "execution_count": null,
   "id": "c9f23cb2-dcf2-4706-8bc3-17e372566970",
   "metadata": {},
   "outputs": [],
   "source": [
    "# for readability, these are good settings to use\n",
    "default(xtickfontsize=14,  ytickfontsize=14, ztickfontsize=14,\n",
    "    guidefontsize=14, legendfontsize=12, lw=2,ms=8)"
   ]
  },
  {
   "cell_type": "code",
   "execution_count": null,
   "id": "788392a8-2af4-4202-89c1-f1bd3944ea9d",
   "metadata": {},
   "outputs": [],
   "source": [
    "n_iters = 50;\n",
    "\n",
    "p = 0.5;\n",
    "q = 1-p;\n",
    "\n",
    "b_dist = Bernoulli(p);\n",
    "X0 = 0;"
   ]
  },
  {
   "cell_type": "code",
   "execution_count": null,
   "id": "db5e6b43-0200-45ad-879f-02ae411f1c1d",
   "metadata": {},
   "outputs": [],
   "source": [
    "X = X0;\n",
    "X_trajectory = [X];\n",
    "\n",
    "Random.seed!(100);\n",
    "for _ in 1:n_iters\n",
    "   X += 2 * rand(b_dist)-1;\n",
    "    push!(X_trajectory, X);\n",
    "end"
   ]
  },
  {
   "cell_type": "code",
   "execution_count": null,
   "id": "d833892d-c7b8-422e-869b-587db0df17ce",
   "metadata": {},
   "outputs": [],
   "source": [
    "scatter(0:n_iters, X_trajectory, label=\"\")\n",
    "xlabel!(\"t\")\n",
    "ylabel!(\"Xₜ\")"
   ]
  }
 ],
 "metadata": {
  "kernelspec": {
   "display_name": "Julia 1.7.2",
   "language": "julia",
   "name": "julia-1.7"
  },
  "language_info": {
   "file_extension": ".jl",
   "mimetype": "application/julia",
   "name": "julia",
   "version": "1.7.2"
  }
 },
 "nbformat": 4,
 "nbformat_minor": 5
}
