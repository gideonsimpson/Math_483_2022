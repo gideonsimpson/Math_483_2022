{
 "cells": [
  {
   "cell_type": "markdown",
   "id": "1fa98348-796a-475d-9fe0-9ccca9bac351",
   "metadata": {},
   "source": [
    "# Integration of Stochastic Differential Equations using Euler-Maruyama"
   ]
  },
  {
   "cell_type": "code",
   "execution_count": null,
   "id": "87b8dcc9-fc66-41c2-92c3-191014138b6f",
   "metadata": {},
   "outputs": [],
   "source": [
    "using Random\n",
    "using Statistics\n",
    "using Printf\n",
    "using Plots"
   ]
  },
  {
   "cell_type": "markdown",
   "id": "b88488f0-c40f-40e4-9796-0ddc33417cc7",
   "metadata": {},
   "source": [
    "## Ornstein-Uhlenbeck\n",
    "$$\n",
    "dX_t = -\\alpha X_t dt + \\sigma dW_t\n",
    "$$"
   ]
  },
  {
   "cell_type": "code",
   "execution_count": null,
   "id": "0849d726-0d5e-4f2e-bb97-f21ae9a2112e",
   "metadata": {},
   "outputs": [],
   "source": [
    "α = 1;\n",
    "σ = 1;\n",
    "Δt = 0.01;\n",
    "n_steps = 10^3;\n",
    "X0 = 1.;\n"
   ]
  },
  {
   "cell_type": "code",
   "execution_count": null,
   "id": "4e17af32-169d-40e8-981e-f283d14e7c68",
   "metadata": {},
   "outputs": [],
   "source": [
    "X = X0;\n",
    "t = 0.;\n",
    "X_trajectory = [X];\n",
    "t_trajectory = [t];\n",
    "\n",
    "Random.seed!(100)\n",
    "\n",
    "for _ in 1:n_steps\n",
    "    X += -α * X * Δt + σ * sqrt(Δt) * randn();\n",
    "    t += Δt;\n",
    "    push!(X_trajectory, X);\n",
    "    push!(t_trajectory, t);\n",
    "end"
   ]
  },
  {
   "cell_type": "code",
   "execution_count": null,
   "id": "251b5811-6ee1-4b39-b693-2be73a09e729",
   "metadata": {},
   "outputs": [],
   "source": [
    "plot(t_trajectory, X_trajectory, label=\"\")\n",
    "xlabel!(\"t\")\n",
    "ylabel!(\"Xₜ\")"
   ]
  },
  {
   "cell_type": "markdown",
   "id": "d685fc24-30fe-4e46-b76b-90cdb3482024",
   "metadata": {},
   "source": [
    "## Geometric Brownian Motion"
   ]
  },
  {
   "cell_type": "code",
   "execution_count": null,
   "id": "feccf6f1-a9a5-4e7f-98ae-63d95327f992",
   "metadata": {},
   "outputs": [],
   "source": [
    "μ = 1.;\n",
    "σ = 1.;\n",
    "Δt = 0.01;\n",
    "n_steps = 10^3;\n",
    "X0 = 1.;"
   ]
  },
  {
   "cell_type": "code",
   "execution_count": null,
   "id": "20ccbd79-ea2d-444f-ab22-1516264377fa",
   "metadata": {},
   "outputs": [],
   "source": [
    "X = X0;\n",
    "t = 0.;\n",
    "X_trajectory = [X];\n",
    "t_trajectory = [t];\n",
    "\n",
    "Random.seed!(100)\n",
    "\n",
    "for _ in 1:n_steps\n",
    "    X += μ * X * Δt + σ * sqrt(Δt) * X * randn();\n",
    "    t += Δt;\n",
    "    push!(X_trajectory, X);\n",
    "    push!(t_trajectory, t);\n",
    "end"
   ]
  },
  {
   "cell_type": "code",
   "execution_count": null,
   "id": "52759dec-8d24-4281-b391-86b61bbed750",
   "metadata": {},
   "outputs": [],
   "source": [
    "plot(t_trajectory, X_trajectory, label=\"\")\n",
    "xlabel!(\"t\")\n",
    "ylabel!(\"Xₜ\")"
   ]
  }
 ],
 "metadata": {
  "kernelspec": {
   "display_name": "Julia 1.7.2",
   "language": "julia",
   "name": "julia-1.7"
  },
  "language_info": {
   "file_extension": ".jl",
   "mimetype": "application/julia",
   "name": "julia",
   "version": "1.7.2"
  }
 },
 "nbformat": 4,
 "nbformat_minor": 5
}
