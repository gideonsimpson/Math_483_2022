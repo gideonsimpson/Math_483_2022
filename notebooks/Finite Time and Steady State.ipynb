{
 "cells": [
  {
   "cell_type": "code",
   "execution_count": null,
   "id": "dcff01b3-d655-4f7a-a29c-bf11e8d33229",
   "metadata": {},
   "outputs": [],
   "source": [
    "using Random\n",
    "using Distributions\n",
    "using Statistics\n",
    "using Printf\n",
    "using Plots"
   ]
  },
  {
   "cell_type": "code",
   "execution_count": null,
   "id": "dfff1e95-0674-491a-a2f2-39a54449b85c",
   "metadata": {},
   "outputs": [],
   "source": [
    "# for readability, these are good settings to use\n",
    "default(xtickfontsize=14,  ytickfontsize=14, ztickfontsize=14,\n",
    "    guidefontsize=14, legendfontsize=12, lw=2,ms=8)"
   ]
  },
  {
   "cell_type": "code",
   "execution_count": null,
   "id": "fcef6a15-b51f-492b-9a09-50bceff274d9",
   "metadata": {},
   "outputs": [],
   "source": [
    "λ = 0.5; # birth-death rates\n",
    "μ = 1.;\n",
    "ρ = λ/μ;\n",
    "q = λ + μ;\n",
    "\n",
    "X0 = 0; # initial population\n",
    "T0 = 0.;\n",
    "Tfinite = 10;\n",
    "N = 2;\n",
    "\n",
    "K = 10^4;\n",
    "\n",
    "Tmax = 10^6;"
   ]
  },
  {
   "cell_type": "markdown",
   "id": "3d58b04d-b288-4de4-b401-83768ac51f5d",
   "metadata": {},
   "source": [
    "# Finite Time Horizion Problem\n",
    "Compute \n",
    "$$\n",
    "\\mathbb{P}(X_T>N)\n",
    "$$\n",
    "with $T$ = 10 and $N = 5$.  This is accomplished by running $K$ independent trials of the M/M/1 process."
   ]
  },
  {
   "cell_type": "code",
   "execution_count": null,
   "id": "e943d02b-5a07-451f-b890-f0977ea0132d",
   "metadata": {},
   "outputs": [],
   "source": [
    "X_samples = zeros(K);\n",
    "Random.seed!(100);\n",
    "\n",
    "for k in 1:K\n",
    "    # run each independent trial\n",
    "    T = 0.;\n",
    "    X = X0;\n",
    "    while(T< Tfinite)\n",
    "        if(X > 0 )\n",
    "            ΔT = rand(Exponential(1/q));\n",
    "            ΔX = 2*rand(Categorical([μ/q, λ/q]))-3;\n",
    "            \n",
    "        else\n",
    "            ΔT = rand(Exponential(1/λ));\n",
    "            ΔX = 1;\n",
    "        end\n",
    "        if(T+ΔT< Tfinite)\n",
    "            X += ΔX\n",
    "        end\n",
    "        T += ΔT;\n",
    "    end\n",
    "    X_samples[k] = X;    \n",
    "end\n",
    "\n",
    "p_est = mean(X_samples .> N);\n",
    "@show p_est;"
   ]
  },
  {
   "cell_type": "markdown",
   "id": "58599a79-c8fe-4d05-b1bc-122906dc1431",
   "metadata": {},
   "source": [
    "# Steady State Simulation\n",
    "Estimate\n",
    "$$\n",
    "\\mathbb{E}[X]\n",
    "$$\n",
    "for the M/M/1 queue.  This is estimated with\n",
    "$$\n",
    "\\frac{1}{T}\\int_{0}^T X_t dt = \\frac{1}{T}\\sum_n Y_{n} (T_{n+1} - T_n)\n",
    "$$"
   ]
  },
  {
   "cell_type": "code",
   "execution_count": null,
   "id": "bb8304a8-46c7-409e-a167-42ed2c3c7768",
   "metadata": {},
   "outputs": [],
   "source": [
    "X = X0;\n",
    "T = 0.;\n",
    "X_trajectory = Int[X];\n",
    "ΔX_vals = [];\n",
    "T_trajectory = Float64[T];\n",
    "\n",
    "Random.seed!(100);\n",
    "\n",
    "while(T<Tmax)\n",
    "    # compute holding time\n",
    "    if(X > 0 )\n",
    "        ΔT = rand(Exponential(1/q));\n",
    "        ΔX = 2*rand(Categorical([μ/q, λ/q]))-3;\n",
    "\n",
    "    else\n",
    "        ΔT = rand(Exponential(1/λ));\n",
    "        ΔX = 1;\n",
    "    end\n",
    "    X += ΔX;\n",
    "    T += ΔT;\n",
    "    push!(X_trajectory, X);\n",
    "    push!(T_trajectory, T);     \n",
    "    # end\n",
    "end\n"
   ]
  },
  {
   "cell_type": "code",
   "execution_count": null,
   "id": "e2bee76f-e483-49e6-8087-d1ebc8fb367b",
   "metadata": {},
   "outputs": [],
   "source": [
    "@show sum(X_trajectory[1:end-1] .* diff(T_trajectory))/T;\n",
    "EX = ρ/(1-ρ);\n",
    "@show EX;"
   ]
  },
  {
   "cell_type": "code",
   "execution_count": null,
   "id": "79ff2b47-0b19-442b-a4ac-1ba3c0c69283",
   "metadata": {},
   "outputs": [],
   "source": [
    "Xavg_trajectory = cumsum(X_trajectory[1:end-1] .* diff(T_trajectory))./(T_trajectory[2:end]);"
   ]
  },
  {
   "cell_type": "code",
   "execution_count": null,
   "id": "f5ea2561-2fd8-4616-81de-543c0c7fe139",
   "metadata": {},
   "outputs": [],
   "source": [
    "plot(T_trajectory[1:end-1], Xavg_trajectory,label=\"Running Avg.\", legend=:bottomright)\n",
    "xlabel!(\"t\")"
   ]
  }
 ],
 "metadata": {
  "kernelspec": {
   "display_name": "Julia 1.7.2",
   "language": "julia",
   "name": "julia-1.7"
  },
  "language_info": {
   "file_extension": ".jl",
   "mimetype": "application/julia",
   "name": "julia",
   "version": "1.7.2"
  }
 },
 "nbformat": 4,
 "nbformat_minor": 5
}
