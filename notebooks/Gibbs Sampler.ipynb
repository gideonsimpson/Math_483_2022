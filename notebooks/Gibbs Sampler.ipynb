{
 "cells": [
  {
   "cell_type": "code",
   "execution_count": null,
   "id": "1b9136af-bb58-4215-9fc3-72edb5122031",
   "metadata": {},
   "outputs": [],
   "source": [
    "using Random\n",
    "using Distributions\n",
    "using Statistics\n",
    "using Printf\n",
    "using Plots"
   ]
  },
  {
   "cell_type": "code",
   "execution_count": null,
   "id": "87041f92-db0b-4a3b-bb8f-c67aa6ec7080",
   "metadata": {},
   "outputs": [],
   "source": [
    "# for readability, these are good settings to use\n",
    "default(xtickfontsize=14,  ytickfontsize=14, ztickfontsize=14,\n",
    "    guidefontsize=14, legendfontsize=12, lw=2,ms=8)"
   ]
  },
  {
   "cell_type": "markdown",
   "id": "80361e68-934b-4731-851d-8baa74329cf4",
   "metadata": {},
   "source": [
    "## Example 6.5\n",
    "Taken from Rubinstein and Kroese.  Sample from the following density in $\\mathbb{R}^2$ using the Gibbs sampler:\n",
    "$$\n",
    "f(x,y) = c_1(y) \\exp \\left(-\\frac{1+y^2}{2} \\left(x - \\frac{4}{1+y^2}\\right)^2\\right)\n",
    "$$\n",
    "After some algebra, it can be shown that\n",
    "\\begin{align}\n",
    "X\\mid Y = y &\\sim N\\left(\\tfrac{4}{1+y^2}, \\tfrac{1}{1+y^2}\\right)\\\\\n",
    "Y\\mid X = x &\\sim N\\left(\\tfrac{4}{1+x^2}, \\tfrac{1}{1+x^2}\\right)\n",
    "\\end{align}\n",
    "allowing us to sample basic Gaussians at each step.\n"
   ]
  },
  {
   "cell_type": "code",
   "execution_count": null,
   "id": "3c2a256a-4216-416a-aa25-8a8ad2f2db06",
   "metadata": {},
   "outputs": [],
   "source": [
    "X0 = ones(2);\n",
    "T = 10^6; # total number of iterations"
   ]
  },
  {
   "cell_type": "code",
   "execution_count": null,
   "id": "ce16dd88-5a6b-46d0-a676-74747bdf73e1",
   "metadata": {},
   "outputs": [],
   "source": [
    "X = deepcopy(X0);\n",
    "X_samples = [deepcopy(X)];\n",
    "Random.seed!(100);\n",
    "for _ in 1:T-1\n",
    "    x = rand(Normal(4/(1+X[2]^2), 1/sqrt(1+X[2]^2)));\n",
    "    y = rand(Normal(4/(1+x^2), 1/sqrt(1+x^2)));\n",
    "    @. X  = [x,y];\n",
    "    push!(X_samples, deepcopy(X))    \n",
    "end"
   ]
  },
  {
   "cell_type": "code",
   "execution_count": null,
   "id": "b1eaeab1-43d6-4d6a-85f9-7918c3f575ef",
   "metadata": {},
   "outputs": [],
   "source": [
    "histogram2d([X_[1] for X_ in X_samples],[X_[2] for X_ in X_samples], norm =:pdf)\n",
    "xlabel!(\"x\")\n",
    "ylabel!(\"y\")"
   ]
  },
  {
   "cell_type": "code",
   "execution_count": null,
   "id": "894941c5-0a23-45fd-ab82-8547bf040563",
   "metadata": {},
   "outputs": [],
   "source": [
    "@show mean([X_[1] for X_ in X_samples]);"
   ]
  },
  {
   "cell_type": "code",
   "execution_count": null,
   "id": "4a08dc87-9875-43ba-9561-e4c8baf5e3ee",
   "metadata": {},
   "outputs": [],
   "source": [
    "plot(1:T, cumsum([X_[1] for X_ in X_samples])./(1:T), label=\"Running Avg.\", legend=:bottomright, xscale=:log10)\n",
    "xlabel!(\"Iterate\")\n",
    "ylabel!(\"Estimate\")"
   ]
  }
 ],
 "metadata": {
  "kernelspec": {
   "display_name": "Julia 1.7.3",
   "language": "julia",
   "name": "julia-1.7"
  },
  "language_info": {
   "file_extension": ".jl",
   "mimetype": "application/julia",
   "name": "julia",
   "version": "1.7.3"
  }
 },
 "nbformat": 4,
 "nbformat_minor": 5
}
