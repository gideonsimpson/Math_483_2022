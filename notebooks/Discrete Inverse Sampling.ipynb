{
 "cells": [
  {
   "cell_type": "code",
   "execution_count": null,
   "id": "c7e36455-74a3-4017-b5ab-e624a7fca613",
   "metadata": {},
   "outputs": [],
   "source": [
    "using Random\n",
    "using Plots\n",
    "using Distributions"
   ]
  },
  {
   "cell_type": "markdown",
   "id": "eef4d088-d292-40d5-8ad5-2f62ad793b2b",
   "metadata": {},
   "source": [
    "# Inverse Function Sampling in the Discrete Case\n",
    "This works much like the continuous case, except that what we do now is, given the probabilties, $p_i$, of each of the discrete events, we form the CDF by summing up this vector of values.  Then the event, $x_k$ corresponds to the smallest $k$ such that\n",
    "$$\n",
    "\\xi \\leq F(x_k) = \\sum_{i|x_i\\leq x_k}p_i\n",
    "$$"
   ]
  },
  {
   "cell_type": "code",
   "execution_count": null,
   "id": "39198c5a-5ddd-4145-be5c-1d45eb73274d",
   "metadata": {},
   "outputs": [],
   "source": [
    "x_vals  = [-1, 0, 2];\n",
    "p_vals  = [.1, .3, .6];\n",
    "F_vals = cumsum(p_vals);\n",
    "@show F_vals;"
   ]
  },
  {
   "cell_type": "code",
   "execution_count": null,
   "id": "88e0d8f7-18d3-4899-ad35-95a9778f2608",
   "metadata": {},
   "outputs": [],
   "source": [
    "function inv_sample()\n",
    "    ξ = rand();\n",
    "    k = findfirst(ξ.<=F_vals)\n",
    "    X = x_vals[k];\n",
    "    return X\n",
    "end"
   ]
  },
  {
   "cell_type": "code",
   "execution_count": null,
   "id": "9ef3f6ff-631f-4b3c-b93d-6980de72c4ec",
   "metadata": {},
   "outputs": [],
   "source": [
    "n = 10^4;\n",
    "Random.seed!(100);\n",
    "samples = [inv_sample() for _ in 1:n];"
   ]
  },
  {
   "cell_type": "code",
   "execution_count": null,
   "id": "266d0f09-8911-45bb-b8ff-2ddd6d3df417",
   "metadata": {},
   "outputs": [],
   "source": [
    "histogram(samples, label=\"Samples\",norm=:probability)\n",
    "xlabel!(\"X\")\n",
    "ylabel!(\"Probability\")"
   ]
  },
  {
   "cell_type": "markdown",
   "id": "189960bd-2b9e-4d75-817f-a974426a5893",
   "metadata": {},
   "source": [
    "Categorical distributions like this can also be sampled using the `Distributions` module, by constructing a `Categorical` distribution.  Note that this will simply return the index, $k$.  To get the corresponding $x_k$, it, we need to evaluate the array `x_vals` on the resulting indices."
   ]
  },
  {
   "cell_type": "code",
   "execution_count": null,
   "id": "b575a291-7eff-43d5-b7b3-2f48ba35ddad",
   "metadata": {},
   "outputs": [],
   "source": [
    "cat_dist = Categorical(p_vals);"
   ]
  },
  {
   "cell_type": "code",
   "execution_count": null,
   "id": "e77e35dc-cc70-48dd-9e9d-06356a105920",
   "metadata": {},
   "outputs": [],
   "source": [
    "n = 10^4;\n",
    "Random.seed!(100);\n",
    "index_samples = rand(cat_dist, n);"
   ]
  },
  {
   "cell_type": "code",
   "execution_count": null,
   "id": "a6977aef-9133-4551-9c2d-de31db9ee6d6",
   "metadata": {},
   "outputs": [],
   "source": [
    "samples = x_vals[index_samples];"
   ]
  },
  {
   "cell_type": "code",
   "execution_count": null,
   "id": "c70d6140-0b16-4b11-8175-14e32bda6e16",
   "metadata": {},
   "outputs": [],
   "source": [
    "histogram(samples, label=\"Samples\",norm=:probability)\n",
    "xlabel!(\"X\")\n",
    "ylabel!(\"Probability\")"
   ]
  },
  {
   "cell_type": "code",
   "execution_count": null,
   "id": "8f9ba998-4454-46f2-bef6-74ddbeb72d60",
   "metadata": {},
   "outputs": [],
   "source": []
  }
 ],
 "metadata": {
  "kernelspec": {
   "display_name": "Julia 1.7.2",
   "language": "julia",
   "name": "julia-1.7"
  },
  "language_info": {
   "file_extension": ".jl",
   "mimetype": "application/julia",
   "name": "julia",
   "version": "1.7.2"
  }
 },
 "nbformat": 4,
 "nbformat_minor": 5
}
